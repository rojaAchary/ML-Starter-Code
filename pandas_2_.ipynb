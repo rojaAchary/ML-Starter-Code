{
 "metadata": {
  "language_info": {
   "codemirror_mode": {
    "name": "ipython",
    "version": 3
   },
   "file_extension": ".py",
   "mimetype": "text/x-python",
   "name": "python",
   "nbconvert_exporter": "python",
   "pygments_lexer": "ipython3",
   "version": "3.7.4"
  },
  "orig_nbformat": 4,
  "kernelspec": {
   "name": "python3",
   "display_name": "Python 3.7.4 64-bit ('base': conda)"
  },
  "interpreter": {
   "hash": "d672ffddfb71b577ac712eae2e698e6731c8003177c144ad3e92edc65bed914c"
  }
 },
 "nbformat": 4,
 "nbformat_minor": 2,
 "cells": [
  {
   "cell_type": "code",
   "execution_count": 8,
   "metadata": {},
   "outputs": [],
   "source": [
    "import pandas as pd"
   ]
  },
  {
   "cell_type": "code",
   "execution_count": 9,
   "metadata": {},
   "outputs": [],
   "source": [
    "import numpy as np"
   ]
  },
  {
   "cell_type": "code",
   "execution_count": 10,
   "metadata": {},
   "outputs": [],
   "source": [
    "import matplotlib.pyplot as plt"
   ]
  },
  {
   "cell_type": "code",
   "execution_count": 11,
   "metadata": {},
   "outputs": [],
   "source": [
    "s = pd.Series([1, 3, 5, np.nan, 6, 8])"
   ]
  },
  {
   "cell_type": "code",
   "execution_count": 12,
   "metadata": {},
   "outputs": [
    {
     "output_type": "execute_result",
     "data": {
      "text/plain": [
       "0    1.0\n",
       "1    3.0\n",
       "2    5.0\n",
       "3    NaN\n",
       "4    6.0\n",
       "5    8.0\n",
       "dtype: float64"
      ]
     },
     "metadata": {},
     "execution_count": 12
    }
   ],
   "source": [
    "s"
   ]
  },
  {
   "cell_type": "code",
   "execution_count": 13,
   "metadata": {},
   "outputs": [],
   "source": [
    "dates = pd.date_range('20130101' , periods=6)"
   ]
  },
  {
   "cell_type": "code",
   "execution_count": 14,
   "metadata": {},
   "outputs": [
    {
     "output_type": "execute_result",
     "data": {
      "text/plain": [
       "DatetimeIndex(['2013-01-01', '2013-01-02', '2013-01-03', '2013-01-04',\n",
       "               '2013-01-05', '2013-01-06'],\n",
       "              dtype='datetime64[ns]', freq='D')"
      ]
     },
     "metadata": {},
     "execution_count": 14
    }
   ],
   "source": [
    "dates"
   ]
  },
  {
   "cell_type": "code",
   "execution_count": 16,
   "metadata": {},
   "outputs": [],
   "source": [
    "df = pd.DataFrame(np.random.randn(6, 4), index = dates, columns = list('ABCD'))"
   ]
  },
  {
   "cell_type": "code",
   "execution_count": 17,
   "metadata": {},
   "outputs": [
    {
     "output_type": "execute_result",
     "data": {
      "text/plain": [
       "                   A         B         C         D\n",
       "2013-01-01 -0.272729  1.704290  0.935510  0.425142\n",
       "2013-01-02 -1.544084 -1.006978  0.772403 -0.177729\n",
       "2013-01-03  0.232575  0.067182  0.097336 -0.223412\n",
       "2013-01-04  0.141039 -0.528826  0.682941  1.197924\n",
       "2013-01-05 -0.705002 -0.868117 -1.648048 -0.207667\n",
       "2013-01-06 -1.557556 -0.995786  0.389103  1.582519"
      ],
      "text/html": "<div>\n<style scoped>\n    .dataframe tbody tr th:only-of-type {\n        vertical-align: middle;\n    }\n\n    .dataframe tbody tr th {\n        vertical-align: top;\n    }\n\n    .dataframe thead th {\n        text-align: right;\n    }\n</style>\n<table border=\"1\" class=\"dataframe\">\n  <thead>\n    <tr style=\"text-align: right;\">\n      <th></th>\n      <th>A</th>\n      <th>B</th>\n      <th>C</th>\n      <th>D</th>\n    </tr>\n  </thead>\n  <tbody>\n    <tr>\n      <td>2013-01-01</td>\n      <td>-0.272729</td>\n      <td>1.704290</td>\n      <td>0.935510</td>\n      <td>0.425142</td>\n    </tr>\n    <tr>\n      <td>2013-01-02</td>\n      <td>-1.544084</td>\n      <td>-1.006978</td>\n      <td>0.772403</td>\n      <td>-0.177729</td>\n    </tr>\n    <tr>\n      <td>2013-01-03</td>\n      <td>0.232575</td>\n      <td>0.067182</td>\n      <td>0.097336</td>\n      <td>-0.223412</td>\n    </tr>\n    <tr>\n      <td>2013-01-04</td>\n      <td>0.141039</td>\n      <td>-0.528826</td>\n      <td>0.682941</td>\n      <td>1.197924</td>\n    </tr>\n    <tr>\n      <td>2013-01-05</td>\n      <td>-0.705002</td>\n      <td>-0.868117</td>\n      <td>-1.648048</td>\n      <td>-0.207667</td>\n    </tr>\n    <tr>\n      <td>2013-01-06</td>\n      <td>-1.557556</td>\n      <td>-0.995786</td>\n      <td>0.389103</td>\n      <td>1.582519</td>\n    </tr>\n  </tbody>\n</table>\n</div>"
     },
     "metadata": {},
     "execution_count": 17
    }
   ],
   "source": [
    "df"
   ]
  },
  {
   "cell_type": "code",
   "execution_count": 18,
   "metadata": {},
   "outputs": [],
   "source": [
    "df2 = pd.DataFrame({ 'A' : 1.,\n",
    "                     'B' : pd.Timestamp('20130102'),\n",
    "                     'C' : pd.Series(1, index = list(range(4)), dtype='float32'),\n",
    "                     'D' : np.array([3] * 4,dtype='int32'),\n",
    "                     'E' : pd.Categorical([\"test\", \"train\", \"test\", \"train\"]),\n",
    "                     'F' : 'foo'})"
   ]
  },
  {
   "cell_type": "code",
   "execution_count": 19,
   "metadata": {},
   "outputs": [
    {
     "output_type": "execute_result",
     "data": {
      "text/plain": [
       "     A          B    C  D      E    F\n",
       "0  1.0 2013-01-02  1.0  3   test  foo\n",
       "1  1.0 2013-01-02  1.0  3  train  foo\n",
       "2  1.0 2013-01-02  1.0  3   test  foo\n",
       "3  1.0 2013-01-02  1.0  3  train  foo"
      ],
      "text/html": "<div>\n<style scoped>\n    .dataframe tbody tr th:only-of-type {\n        vertical-align: middle;\n    }\n\n    .dataframe tbody tr th {\n        vertical-align: top;\n    }\n\n    .dataframe thead th {\n        text-align: right;\n    }\n</style>\n<table border=\"1\" class=\"dataframe\">\n  <thead>\n    <tr style=\"text-align: right;\">\n      <th></th>\n      <th>A</th>\n      <th>B</th>\n      <th>C</th>\n      <th>D</th>\n      <th>E</th>\n      <th>F</th>\n    </tr>\n  </thead>\n  <tbody>\n    <tr>\n      <td>0</td>\n      <td>1.0</td>\n      <td>2013-01-02</td>\n      <td>1.0</td>\n      <td>3</td>\n      <td>test</td>\n      <td>foo</td>\n    </tr>\n    <tr>\n      <td>1</td>\n      <td>1.0</td>\n      <td>2013-01-02</td>\n      <td>1.0</td>\n      <td>3</td>\n      <td>train</td>\n      <td>foo</td>\n    </tr>\n    <tr>\n      <td>2</td>\n      <td>1.0</td>\n      <td>2013-01-02</td>\n      <td>1.0</td>\n      <td>3</td>\n      <td>test</td>\n      <td>foo</td>\n    </tr>\n    <tr>\n      <td>3</td>\n      <td>1.0</td>\n      <td>2013-01-02</td>\n      <td>1.0</td>\n      <td>3</td>\n      <td>train</td>\n      <td>foo</td>\n    </tr>\n  </tbody>\n</table>\n</div>"
     },
     "metadata": {},
     "execution_count": 19
    }
   ],
   "source": [
    "df2"
   ]
  },
  {
   "cell_type": "code",
   "execution_count": 20,
   "metadata": {},
   "outputs": [
    {
     "output_type": "execute_result",
     "data": {
      "text/plain": [
       "A           float64\n",
       "B    datetime64[ns]\n",
       "C           float32\n",
       "D             int32\n",
       "E          category\n",
       "F            object\n",
       "dtype: object"
      ]
     },
     "metadata": {},
     "execution_count": 20
    }
   ],
   "source": [
    "df2.dtypes   "
   ]
  },
  {
   "cell_type": "code",
   "execution_count": 101,
   "metadata": {},
   "outputs": [
    {
     "output_type": "execute_result",
     "data": {
      "text/plain": [
       "          A         B         C         D\n",
       "0 -0.008768 -0.234757 -0.481784 -1.181587\n",
       "1 -0.354716  0.313011 -0.774605 -0.298923\n",
       "2  0.101993 -0.247856  1.692443  0.695420\n",
       "3  0.754297 -0.849833 -2.133472 -0.336293\n",
       "4  0.187320  1.474407  1.740719 -0.788970"
      ],
      "text/html": "<div>\n<style scoped>\n    .dataframe tbody tr th:only-of-type {\n        vertical-align: middle;\n    }\n\n    .dataframe tbody tr th {\n        vertical-align: top;\n    }\n\n    .dataframe thead th {\n        text-align: right;\n    }\n</style>\n<table border=\"1\" class=\"dataframe\">\n  <thead>\n    <tr style=\"text-align: right;\">\n      <th></th>\n      <th>A</th>\n      <th>B</th>\n      <th>C</th>\n      <th>D</th>\n    </tr>\n  </thead>\n  <tbody>\n    <tr>\n      <td>0</td>\n      <td>-0.008768</td>\n      <td>-0.234757</td>\n      <td>-0.481784</td>\n      <td>-1.181587</td>\n    </tr>\n    <tr>\n      <td>1</td>\n      <td>-0.354716</td>\n      <td>0.313011</td>\n      <td>-0.774605</td>\n      <td>-0.298923</td>\n    </tr>\n    <tr>\n      <td>2</td>\n      <td>0.101993</td>\n      <td>-0.247856</td>\n      <td>1.692443</td>\n      <td>0.695420</td>\n    </tr>\n    <tr>\n      <td>3</td>\n      <td>0.754297</td>\n      <td>-0.849833</td>\n      <td>-2.133472</td>\n      <td>-0.336293</td>\n    </tr>\n    <tr>\n      <td>4</td>\n      <td>0.187320</td>\n      <td>1.474407</td>\n      <td>1.740719</td>\n      <td>-0.788970</td>\n    </tr>\n  </tbody>\n</table>\n</div>"
     },
     "metadata": {},
     "execution_count": 101
    }
   ],
   "source": [
    "df.head()"
   ]
  },
  {
   "cell_type": "code",
   "execution_count": 24,
   "metadata": {},
   "outputs": [
    {
     "output_type": "execute_result",
     "data": {
      "text/plain": [
       "                   A         B         C         D\n",
       "2013-01-04  0.141039 -0.528826  0.682941  1.197924\n",
       "2013-01-05 -0.705002 -0.868117 -1.648048 -0.207667\n",
       "2013-01-06 -1.557556 -0.995786  0.389103  1.582519"
      ],
      "text/html": "<div>\n<style scoped>\n    .dataframe tbody tr th:only-of-type {\n        vertical-align: middle;\n    }\n\n    .dataframe tbody tr th {\n        vertical-align: top;\n    }\n\n    .dataframe thead th {\n        text-align: right;\n    }\n</style>\n<table border=\"1\" class=\"dataframe\">\n  <thead>\n    <tr style=\"text-align: right;\">\n      <th></th>\n      <th>A</th>\n      <th>B</th>\n      <th>C</th>\n      <th>D</th>\n    </tr>\n  </thead>\n  <tbody>\n    <tr>\n      <td>2013-01-04</td>\n      <td>0.141039</td>\n      <td>-0.528826</td>\n      <td>0.682941</td>\n      <td>1.197924</td>\n    </tr>\n    <tr>\n      <td>2013-01-05</td>\n      <td>-0.705002</td>\n      <td>-0.868117</td>\n      <td>-1.648048</td>\n      <td>-0.207667</td>\n    </tr>\n    <tr>\n      <td>2013-01-06</td>\n      <td>-1.557556</td>\n      <td>-0.995786</td>\n      <td>0.389103</td>\n      <td>1.582519</td>\n    </tr>\n  </tbody>\n</table>\n</div>"
     },
     "metadata": {},
     "execution_count": 24
    }
   ],
   "source": [
    "df.tail(3)"
   ]
  },
  {
   "cell_type": "code",
   "execution_count": 27,
   "metadata": {},
   "outputs": [
    {
     "output_type": "execute_result",
     "data": {
      "text/plain": [
       "DatetimeIndex(['2013-01-01', '2013-01-02', '2013-01-03', '2013-01-04',\n",
       "               '2013-01-05', '2013-01-06'],\n",
       "              dtype='datetime64[ns]', freq='D')"
      ]
     },
     "metadata": {},
     "execution_count": 27
    }
   ],
   "source": [
    "df.index"
   ]
  },
  {
   "cell_type": "code",
   "execution_count": 28,
   "metadata": {},
   "outputs": [
    {
     "output_type": "execute_result",
     "data": {
      "text/plain": [
       "Index(['A', 'B', 'C', 'D'], dtype='object')"
      ]
     },
     "metadata": {},
     "execution_count": 28
    }
   ],
   "source": [
    "df.columns"
   ]
  },
  {
   "cell_type": "code",
   "execution_count": 29,
   "metadata": {},
   "outputs": [
    {
     "output_type": "execute_result",
     "data": {
      "text/plain": [
       "array([[-0.27272894,  1.70428977,  0.93551023,  0.42514168],\n",
       "       [-1.54408427, -1.00697766,  0.77240264, -0.17772851],\n",
       "       [ 0.23257504,  0.06718175,  0.09733586, -0.22341163],\n",
       "       [ 0.14103933, -0.52882583,  0.68294079,  1.19792355],\n",
       "       [-0.70500234, -0.86811715, -1.64804759, -0.20766677],\n",
       "       [-1.55755613, -0.99578641,  0.38910343,  1.58251915]])"
      ]
     },
     "metadata": {},
     "execution_count": 29
    }
   ],
   "source": [
    "df.values"
   ]
  },
  {
   "cell_type": "code",
   "execution_count": 30,
   "metadata": {},
   "outputs": [
    {
     "output_type": "execute_result",
     "data": {
      "text/plain": [
       "              A         B         C         D\n",
       "count  6.000000  6.000000  6.000000  6.000000\n",
       "mean  -0.617626 -0.271373  0.204874  0.432796\n",
       "std    0.795839  1.049394  0.955331  0.790049\n",
       "min   -1.557556 -1.006978 -1.648048 -0.223412\n",
       "25%   -1.334314 -0.963869  0.170278 -0.200182\n",
       "50%   -0.488866 -0.698471  0.536022  0.123707\n",
       "75%    0.037597 -0.081820  0.750037  1.004728\n",
       "max    0.232575  1.704290  0.935510  1.582519"
      ],
      "text/html": "<div>\n<style scoped>\n    .dataframe tbody tr th:only-of-type {\n        vertical-align: middle;\n    }\n\n    .dataframe tbody tr th {\n        vertical-align: top;\n    }\n\n    .dataframe thead th {\n        text-align: right;\n    }\n</style>\n<table border=\"1\" class=\"dataframe\">\n  <thead>\n    <tr style=\"text-align: right;\">\n      <th></th>\n      <th>A</th>\n      <th>B</th>\n      <th>C</th>\n      <th>D</th>\n    </tr>\n  </thead>\n  <tbody>\n    <tr>\n      <td>count</td>\n      <td>6.000000</td>\n      <td>6.000000</td>\n      <td>6.000000</td>\n      <td>6.000000</td>\n    </tr>\n    <tr>\n      <td>mean</td>\n      <td>-0.617626</td>\n      <td>-0.271373</td>\n      <td>0.204874</td>\n      <td>0.432796</td>\n    </tr>\n    <tr>\n      <td>std</td>\n      <td>0.795839</td>\n      <td>1.049394</td>\n      <td>0.955331</td>\n      <td>0.790049</td>\n    </tr>\n    <tr>\n      <td>min</td>\n      <td>-1.557556</td>\n      <td>-1.006978</td>\n      <td>-1.648048</td>\n      <td>-0.223412</td>\n    </tr>\n    <tr>\n      <td>25%</td>\n      <td>-1.334314</td>\n      <td>-0.963869</td>\n      <td>0.170278</td>\n      <td>-0.200182</td>\n    </tr>\n    <tr>\n      <td>50%</td>\n      <td>-0.488866</td>\n      <td>-0.698471</td>\n      <td>0.536022</td>\n      <td>0.123707</td>\n    </tr>\n    <tr>\n      <td>75%</td>\n      <td>0.037597</td>\n      <td>-0.081820</td>\n      <td>0.750037</td>\n      <td>1.004728</td>\n    </tr>\n    <tr>\n      <td>max</td>\n      <td>0.232575</td>\n      <td>1.704290</td>\n      <td>0.935510</td>\n      <td>1.582519</td>\n    </tr>\n  </tbody>\n</table>\n</div>"
     },
     "metadata": {},
     "execution_count": 30
    }
   ],
   "source": [
    "df.describe()"
   ]
  },
  {
   "cell_type": "code",
   "execution_count": 31,
   "metadata": {},
   "outputs": [
    {
     "output_type": "execute_result",
     "data": {
      "text/plain": [
       "   2013-01-01  2013-01-02  2013-01-03  2013-01-04  2013-01-05  2013-01-06\n",
       "A   -0.272729   -1.544084    0.232575    0.141039   -0.705002   -1.557556\n",
       "B    1.704290   -1.006978    0.067182   -0.528826   -0.868117   -0.995786\n",
       "C    0.935510    0.772403    0.097336    0.682941   -1.648048    0.389103\n",
       "D    0.425142   -0.177729   -0.223412    1.197924   -0.207667    1.582519"
      ],
      "text/html": "<div>\n<style scoped>\n    .dataframe tbody tr th:only-of-type {\n        vertical-align: middle;\n    }\n\n    .dataframe tbody tr th {\n        vertical-align: top;\n    }\n\n    .dataframe thead th {\n        text-align: right;\n    }\n</style>\n<table border=\"1\" class=\"dataframe\">\n  <thead>\n    <tr style=\"text-align: right;\">\n      <th></th>\n      <th>2013-01-01</th>\n      <th>2013-01-02</th>\n      <th>2013-01-03</th>\n      <th>2013-01-04</th>\n      <th>2013-01-05</th>\n      <th>2013-01-06</th>\n    </tr>\n  </thead>\n  <tbody>\n    <tr>\n      <td>A</td>\n      <td>-0.272729</td>\n      <td>-1.544084</td>\n      <td>0.232575</td>\n      <td>0.141039</td>\n      <td>-0.705002</td>\n      <td>-1.557556</td>\n    </tr>\n    <tr>\n      <td>B</td>\n      <td>1.704290</td>\n      <td>-1.006978</td>\n      <td>0.067182</td>\n      <td>-0.528826</td>\n      <td>-0.868117</td>\n      <td>-0.995786</td>\n    </tr>\n    <tr>\n      <td>C</td>\n      <td>0.935510</td>\n      <td>0.772403</td>\n      <td>0.097336</td>\n      <td>0.682941</td>\n      <td>-1.648048</td>\n      <td>0.389103</td>\n    </tr>\n    <tr>\n      <td>D</td>\n      <td>0.425142</td>\n      <td>-0.177729</td>\n      <td>-0.223412</td>\n      <td>1.197924</td>\n      <td>-0.207667</td>\n      <td>1.582519</td>\n    </tr>\n  </tbody>\n</table>\n</div>"
     },
     "metadata": {},
     "execution_count": 31
    }
   ],
   "source": [
    "df.T"
   ]
  },
  {
   "cell_type": "code",
   "execution_count": 32,
   "metadata": {},
   "outputs": [
    {
     "output_type": "execute_result",
     "data": {
      "text/plain": [
       "                   D         C         B         A\n",
       "2013-01-01  0.425142  0.935510  1.704290 -0.272729\n",
       "2013-01-02 -0.177729  0.772403 -1.006978 -1.544084\n",
       "2013-01-03 -0.223412  0.097336  0.067182  0.232575\n",
       "2013-01-04  1.197924  0.682941 -0.528826  0.141039\n",
       "2013-01-05 -0.207667 -1.648048 -0.868117 -0.705002\n",
       "2013-01-06  1.582519  0.389103 -0.995786 -1.557556"
      ],
      "text/html": "<div>\n<style scoped>\n    .dataframe tbody tr th:only-of-type {\n        vertical-align: middle;\n    }\n\n    .dataframe tbody tr th {\n        vertical-align: top;\n    }\n\n    .dataframe thead th {\n        text-align: right;\n    }\n</style>\n<table border=\"1\" class=\"dataframe\">\n  <thead>\n    <tr style=\"text-align: right;\">\n      <th></th>\n      <th>D</th>\n      <th>C</th>\n      <th>B</th>\n      <th>A</th>\n    </tr>\n  </thead>\n  <tbody>\n    <tr>\n      <td>2013-01-01</td>\n      <td>0.425142</td>\n      <td>0.935510</td>\n      <td>1.704290</td>\n      <td>-0.272729</td>\n    </tr>\n    <tr>\n      <td>2013-01-02</td>\n      <td>-0.177729</td>\n      <td>0.772403</td>\n      <td>-1.006978</td>\n      <td>-1.544084</td>\n    </tr>\n    <tr>\n      <td>2013-01-03</td>\n      <td>-0.223412</td>\n      <td>0.097336</td>\n      <td>0.067182</td>\n      <td>0.232575</td>\n    </tr>\n    <tr>\n      <td>2013-01-04</td>\n      <td>1.197924</td>\n      <td>0.682941</td>\n      <td>-0.528826</td>\n      <td>0.141039</td>\n    </tr>\n    <tr>\n      <td>2013-01-05</td>\n      <td>-0.207667</td>\n      <td>-1.648048</td>\n      <td>-0.868117</td>\n      <td>-0.705002</td>\n    </tr>\n    <tr>\n      <td>2013-01-06</td>\n      <td>1.582519</td>\n      <td>0.389103</td>\n      <td>-0.995786</td>\n      <td>-1.557556</td>\n    </tr>\n  </tbody>\n</table>\n</div>"
     },
     "metadata": {},
     "execution_count": 32
    }
   ],
   "source": [
    "df.sort_index(axis=1, ascending=False)"
   ]
  },
  {
   "cell_type": "code",
   "execution_count": 33,
   "metadata": {},
   "outputs": [
    {
     "output_type": "execute_result",
     "data": {
      "text/plain": [
       "                   A         B         C         D\n",
       "2013-01-02 -1.544084 -1.006978  0.772403 -0.177729\n",
       "2013-01-06 -1.557556 -0.995786  0.389103  1.582519\n",
       "2013-01-05 -0.705002 -0.868117 -1.648048 -0.207667\n",
       "2013-01-04  0.141039 -0.528826  0.682941  1.197924\n",
       "2013-01-03  0.232575  0.067182  0.097336 -0.223412\n",
       "2013-01-01 -0.272729  1.704290  0.935510  0.425142"
      ],
      "text/html": "<div>\n<style scoped>\n    .dataframe tbody tr th:only-of-type {\n        vertical-align: middle;\n    }\n\n    .dataframe tbody tr th {\n        vertical-align: top;\n    }\n\n    .dataframe thead th {\n        text-align: right;\n    }\n</style>\n<table border=\"1\" class=\"dataframe\">\n  <thead>\n    <tr style=\"text-align: right;\">\n      <th></th>\n      <th>A</th>\n      <th>B</th>\n      <th>C</th>\n      <th>D</th>\n    </tr>\n  </thead>\n  <tbody>\n    <tr>\n      <td>2013-01-02</td>\n      <td>-1.544084</td>\n      <td>-1.006978</td>\n      <td>0.772403</td>\n      <td>-0.177729</td>\n    </tr>\n    <tr>\n      <td>2013-01-06</td>\n      <td>-1.557556</td>\n      <td>-0.995786</td>\n      <td>0.389103</td>\n      <td>1.582519</td>\n    </tr>\n    <tr>\n      <td>2013-01-05</td>\n      <td>-0.705002</td>\n      <td>-0.868117</td>\n      <td>-1.648048</td>\n      <td>-0.207667</td>\n    </tr>\n    <tr>\n      <td>2013-01-04</td>\n      <td>0.141039</td>\n      <td>-0.528826</td>\n      <td>0.682941</td>\n      <td>1.197924</td>\n    </tr>\n    <tr>\n      <td>2013-01-03</td>\n      <td>0.232575</td>\n      <td>0.067182</td>\n      <td>0.097336</td>\n      <td>-0.223412</td>\n    </tr>\n    <tr>\n      <td>2013-01-01</td>\n      <td>-0.272729</td>\n      <td>1.704290</td>\n      <td>0.935510</td>\n      <td>0.425142</td>\n    </tr>\n  </tbody>\n</table>\n</div>"
     },
     "metadata": {},
     "execution_count": 33
    }
   ],
   "source": [
    "df.sort_values(by='B')"
   ]
  },
  {
   "cell_type": "code",
   "execution_count": 34,
   "metadata": {},
   "outputs": [
    {
     "output_type": "execute_result",
     "data": {
      "text/plain": [
       "2013-01-01   -0.272729\n",
       "2013-01-02   -1.544084\n",
       "2013-01-03    0.232575\n",
       "2013-01-04    0.141039\n",
       "2013-01-05   -0.705002\n",
       "2013-01-06   -1.557556\n",
       "Freq: D, Name: A, dtype: float64"
      ]
     },
     "metadata": {},
     "execution_count": 34
    }
   ],
   "source": [
    "df['A']"
   ]
  },
  {
   "cell_type": "code",
   "execution_count": 35,
   "metadata": {},
   "outputs": [
    {
     "output_type": "execute_result",
     "data": {
      "text/plain": [
       "                   A         B         C         D\n",
       "2013-01-01 -0.272729  1.704290  0.935510  0.425142\n",
       "2013-01-02 -1.544084 -1.006978  0.772403 -0.177729\n",
       "2013-01-03  0.232575  0.067182  0.097336 -0.223412"
      ],
      "text/html": "<div>\n<style scoped>\n    .dataframe tbody tr th:only-of-type {\n        vertical-align: middle;\n    }\n\n    .dataframe tbody tr th {\n        vertical-align: top;\n    }\n\n    .dataframe thead th {\n        text-align: right;\n    }\n</style>\n<table border=\"1\" class=\"dataframe\">\n  <thead>\n    <tr style=\"text-align: right;\">\n      <th></th>\n      <th>A</th>\n      <th>B</th>\n      <th>C</th>\n      <th>D</th>\n    </tr>\n  </thead>\n  <tbody>\n    <tr>\n      <td>2013-01-01</td>\n      <td>-0.272729</td>\n      <td>1.704290</td>\n      <td>0.935510</td>\n      <td>0.425142</td>\n    </tr>\n    <tr>\n      <td>2013-01-02</td>\n      <td>-1.544084</td>\n      <td>-1.006978</td>\n      <td>0.772403</td>\n      <td>-0.177729</td>\n    </tr>\n    <tr>\n      <td>2013-01-03</td>\n      <td>0.232575</td>\n      <td>0.067182</td>\n      <td>0.097336</td>\n      <td>-0.223412</td>\n    </tr>\n  </tbody>\n</table>\n</div>"
     },
     "metadata": {},
     "execution_count": 35
    }
   ],
   "source": [
    "df[0:3]"
   ]
  },
  {
   "cell_type": "code",
   "execution_count": 36,
   "metadata": {},
   "outputs": [
    {
     "output_type": "execute_result",
     "data": {
      "text/plain": [
       "                   A         B         C         D\n",
       "2013-01-02 -1.544084 -1.006978  0.772403 -0.177729\n",
       "2013-01-03  0.232575  0.067182  0.097336 -0.223412\n",
       "2013-01-04  0.141039 -0.528826  0.682941  1.197924"
      ],
      "text/html": "<div>\n<style scoped>\n    .dataframe tbody tr th:only-of-type {\n        vertical-align: middle;\n    }\n\n    .dataframe tbody tr th {\n        vertical-align: top;\n    }\n\n    .dataframe thead th {\n        text-align: right;\n    }\n</style>\n<table border=\"1\" class=\"dataframe\">\n  <thead>\n    <tr style=\"text-align: right;\">\n      <th></th>\n      <th>A</th>\n      <th>B</th>\n      <th>C</th>\n      <th>D</th>\n    </tr>\n  </thead>\n  <tbody>\n    <tr>\n      <td>2013-01-02</td>\n      <td>-1.544084</td>\n      <td>-1.006978</td>\n      <td>0.772403</td>\n      <td>-0.177729</td>\n    </tr>\n    <tr>\n      <td>2013-01-03</td>\n      <td>0.232575</td>\n      <td>0.067182</td>\n      <td>0.097336</td>\n      <td>-0.223412</td>\n    </tr>\n    <tr>\n      <td>2013-01-04</td>\n      <td>0.141039</td>\n      <td>-0.528826</td>\n      <td>0.682941</td>\n      <td>1.197924</td>\n    </tr>\n  </tbody>\n</table>\n</div>"
     },
     "metadata": {},
     "execution_count": 36
    }
   ],
   "source": [
    "df['20130102':'20130104']"
   ]
  },
  {
   "cell_type": "code",
   "execution_count": 37,
   "metadata": {},
   "outputs": [
    {
     "output_type": "execute_result",
     "data": {
      "text/plain": [
       "A   -0.272729\n",
       "B    1.704290\n",
       "C    0.935510\n",
       "D    0.425142\n",
       "Name: 2013-01-01 00:00:00, dtype: float64"
      ]
     },
     "metadata": {},
     "execution_count": 37
    }
   ],
   "source": [
    "df.loc[dates[0]]"
   ]
  },
  {
   "cell_type": "code",
   "execution_count": 38,
   "metadata": {},
   "outputs": [
    {
     "output_type": "execute_result",
     "data": {
      "text/plain": [
       "                   A         B\n",
       "2013-01-01 -0.272729  1.704290\n",
       "2013-01-02 -1.544084 -1.006978\n",
       "2013-01-03  0.232575  0.067182\n",
       "2013-01-04  0.141039 -0.528826\n",
       "2013-01-05 -0.705002 -0.868117\n",
       "2013-01-06 -1.557556 -0.995786"
      ],
      "text/html": "<div>\n<style scoped>\n    .dataframe tbody tr th:only-of-type {\n        vertical-align: middle;\n    }\n\n    .dataframe tbody tr th {\n        vertical-align: top;\n    }\n\n    .dataframe thead th {\n        text-align: right;\n    }\n</style>\n<table border=\"1\" class=\"dataframe\">\n  <thead>\n    <tr style=\"text-align: right;\">\n      <th></th>\n      <th>A</th>\n      <th>B</th>\n    </tr>\n  </thead>\n  <tbody>\n    <tr>\n      <td>2013-01-01</td>\n      <td>-0.272729</td>\n      <td>1.704290</td>\n    </tr>\n    <tr>\n      <td>2013-01-02</td>\n      <td>-1.544084</td>\n      <td>-1.006978</td>\n    </tr>\n    <tr>\n      <td>2013-01-03</td>\n      <td>0.232575</td>\n      <td>0.067182</td>\n    </tr>\n    <tr>\n      <td>2013-01-04</td>\n      <td>0.141039</td>\n      <td>-0.528826</td>\n    </tr>\n    <tr>\n      <td>2013-01-05</td>\n      <td>-0.705002</td>\n      <td>-0.868117</td>\n    </tr>\n    <tr>\n      <td>2013-01-06</td>\n      <td>-1.557556</td>\n      <td>-0.995786</td>\n    </tr>\n  </tbody>\n</table>\n</div>"
     },
     "metadata": {},
     "execution_count": 38
    }
   ],
   "source": [
    "df.loc[:,['A','B']]"
   ]
  },
  {
   "cell_type": "code",
   "execution_count": 39,
   "metadata": {},
   "outputs": [
    {
     "output_type": "execute_result",
     "data": {
      "text/plain": [
       "                   A         B\n",
       "2013-01-02 -1.544084 -1.006978\n",
       "2013-01-03  0.232575  0.067182\n",
       "2013-01-04  0.141039 -0.528826"
      ],
      "text/html": "<div>\n<style scoped>\n    .dataframe tbody tr th:only-of-type {\n        vertical-align: middle;\n    }\n\n    .dataframe tbody tr th {\n        vertical-align: top;\n    }\n\n    .dataframe thead th {\n        text-align: right;\n    }\n</style>\n<table border=\"1\" class=\"dataframe\">\n  <thead>\n    <tr style=\"text-align: right;\">\n      <th></th>\n      <th>A</th>\n      <th>B</th>\n    </tr>\n  </thead>\n  <tbody>\n    <tr>\n      <td>2013-01-02</td>\n      <td>-1.544084</td>\n      <td>-1.006978</td>\n    </tr>\n    <tr>\n      <td>2013-01-03</td>\n      <td>0.232575</td>\n      <td>0.067182</td>\n    </tr>\n    <tr>\n      <td>2013-01-04</td>\n      <td>0.141039</td>\n      <td>-0.528826</td>\n    </tr>\n  </tbody>\n</table>\n</div>"
     },
     "metadata": {},
     "execution_count": 39
    }
   ],
   "source": [
    "df.loc['20130102':'20130104',['A','B']]"
   ]
  },
  {
   "cell_type": "code",
   "execution_count": 40,
   "metadata": {},
   "outputs": [
    {
     "output_type": "execute_result",
     "data": {
      "text/plain": [
       "-0.27272894053828334"
      ]
     },
     "metadata": {},
     "execution_count": 40
    }
   ],
   "source": [
    "df.loc[dates[0],'A']"
   ]
  },
  {
   "cell_type": "code",
   "execution_count": 41,
   "metadata": {},
   "outputs": [
    {
     "output_type": "execute_result",
     "data": {
      "text/plain": [
       "-0.27272894053828334"
      ]
     },
     "metadata": {},
     "execution_count": 41
    }
   ],
   "source": [
    "df.at[dates[0],'A']"
   ]
  },
  {
   "cell_type": "code",
   "execution_count": 42,
   "metadata": {},
   "outputs": [
    {
     "output_type": "execute_result",
     "data": {
      "text/plain": [
       "A    0.141039\n",
       "B   -0.528826\n",
       "C    0.682941\n",
       "D    1.197924\n",
       "Name: 2013-01-04 00:00:00, dtype: float64"
      ]
     },
     "metadata": {},
     "execution_count": 42
    }
   ],
   "source": [
    "df.iloc[3]"
   ]
  },
  {
   "cell_type": "code",
   "execution_count": 43,
   "metadata": {},
   "outputs": [
    {
     "output_type": "execute_result",
     "data": {
      "text/plain": [
       "                   A         B\n",
       "2013-01-04  0.141039 -0.528826\n",
       "2013-01-05 -0.705002 -0.868117"
      ],
      "text/html": "<div>\n<style scoped>\n    .dataframe tbody tr th:only-of-type {\n        vertical-align: middle;\n    }\n\n    .dataframe tbody tr th {\n        vertical-align: top;\n    }\n\n    .dataframe thead th {\n        text-align: right;\n    }\n</style>\n<table border=\"1\" class=\"dataframe\">\n  <thead>\n    <tr style=\"text-align: right;\">\n      <th></th>\n      <th>A</th>\n      <th>B</th>\n    </tr>\n  </thead>\n  <tbody>\n    <tr>\n      <td>2013-01-04</td>\n      <td>0.141039</td>\n      <td>-0.528826</td>\n    </tr>\n    <tr>\n      <td>2013-01-05</td>\n      <td>-0.705002</td>\n      <td>-0.868117</td>\n    </tr>\n  </tbody>\n</table>\n</div>"
     },
     "metadata": {},
     "execution_count": 43
    }
   ],
   "source": [
    "df.iloc[3:5,0:2]"
   ]
  },
  {
   "cell_type": "code",
   "execution_count": 44,
   "metadata": {},
   "outputs": [
    {
     "output_type": "execute_result",
     "data": {
      "text/plain": [
       "                   A         C\n",
       "2013-01-02 -1.544084  0.772403\n",
       "2013-01-03  0.232575  0.097336\n",
       "2013-01-05 -0.705002 -1.648048"
      ],
      "text/html": "<div>\n<style scoped>\n    .dataframe tbody tr th:only-of-type {\n        vertical-align: middle;\n    }\n\n    .dataframe tbody tr th {\n        vertical-align: top;\n    }\n\n    .dataframe thead th {\n        text-align: right;\n    }\n</style>\n<table border=\"1\" class=\"dataframe\">\n  <thead>\n    <tr style=\"text-align: right;\">\n      <th></th>\n      <th>A</th>\n      <th>C</th>\n    </tr>\n  </thead>\n  <tbody>\n    <tr>\n      <td>2013-01-02</td>\n      <td>-1.544084</td>\n      <td>0.772403</td>\n    </tr>\n    <tr>\n      <td>2013-01-03</td>\n      <td>0.232575</td>\n      <td>0.097336</td>\n    </tr>\n    <tr>\n      <td>2013-01-05</td>\n      <td>-0.705002</td>\n      <td>-1.648048</td>\n    </tr>\n  </tbody>\n</table>\n</div>"
     },
     "metadata": {},
     "execution_count": 44
    }
   ],
   "source": [
    "df.iloc[[1, 2, 4],[0, 2]]"
   ]
  },
  {
   "cell_type": "code",
   "execution_count": 46,
   "metadata": {},
   "outputs": [
    {
     "output_type": "execute_result",
     "data": {
      "text/plain": [
       "                   A         B         C         D\n",
       "2013-01-02 -1.544084 -1.006978  0.772403 -0.177729\n",
       "2013-01-03  0.232575  0.067182  0.097336 -0.223412"
      ],
      "text/html": "<div>\n<style scoped>\n    .dataframe tbody tr th:only-of-type {\n        vertical-align: middle;\n    }\n\n    .dataframe tbody tr th {\n        vertical-align: top;\n    }\n\n    .dataframe thead th {\n        text-align: right;\n    }\n</style>\n<table border=\"1\" class=\"dataframe\">\n  <thead>\n    <tr style=\"text-align: right;\">\n      <th></th>\n      <th>A</th>\n      <th>B</th>\n      <th>C</th>\n      <th>D</th>\n    </tr>\n  </thead>\n  <tbody>\n    <tr>\n      <td>2013-01-02</td>\n      <td>-1.544084</td>\n      <td>-1.006978</td>\n      <td>0.772403</td>\n      <td>-0.177729</td>\n    </tr>\n    <tr>\n      <td>2013-01-03</td>\n      <td>0.232575</td>\n      <td>0.067182</td>\n      <td>0.097336</td>\n      <td>-0.223412</td>\n    </tr>\n  </tbody>\n</table>\n</div>"
     },
     "metadata": {},
     "execution_count": 46
    }
   ],
   "source": [
    "df.iloc[1:3,:]"
   ]
  },
  {
   "cell_type": "code",
   "execution_count": 47,
   "metadata": {},
   "outputs": [
    {
     "output_type": "execute_result",
     "data": {
      "text/plain": [
       "                   B         C\n",
       "2013-01-01  1.704290  0.935510\n",
       "2013-01-02 -1.006978  0.772403\n",
       "2013-01-03  0.067182  0.097336\n",
       "2013-01-04 -0.528826  0.682941\n",
       "2013-01-05 -0.868117 -1.648048\n",
       "2013-01-06 -0.995786  0.389103"
      ],
      "text/html": "<div>\n<style scoped>\n    .dataframe tbody tr th:only-of-type {\n        vertical-align: middle;\n    }\n\n    .dataframe tbody tr th {\n        vertical-align: top;\n    }\n\n    .dataframe thead th {\n        text-align: right;\n    }\n</style>\n<table border=\"1\" class=\"dataframe\">\n  <thead>\n    <tr style=\"text-align: right;\">\n      <th></th>\n      <th>B</th>\n      <th>C</th>\n    </tr>\n  </thead>\n  <tbody>\n    <tr>\n      <td>2013-01-01</td>\n      <td>1.704290</td>\n      <td>0.935510</td>\n    </tr>\n    <tr>\n      <td>2013-01-02</td>\n      <td>-1.006978</td>\n      <td>0.772403</td>\n    </tr>\n    <tr>\n      <td>2013-01-03</td>\n      <td>0.067182</td>\n      <td>0.097336</td>\n    </tr>\n    <tr>\n      <td>2013-01-04</td>\n      <td>-0.528826</td>\n      <td>0.682941</td>\n    </tr>\n    <tr>\n      <td>2013-01-05</td>\n      <td>-0.868117</td>\n      <td>-1.648048</td>\n    </tr>\n    <tr>\n      <td>2013-01-06</td>\n      <td>-0.995786</td>\n      <td>0.389103</td>\n    </tr>\n  </tbody>\n</table>\n</div>"
     },
     "metadata": {},
     "execution_count": 47
    }
   ],
   "source": [
    "df.iloc[:,1:3]"
   ]
  },
  {
   "cell_type": "code",
   "execution_count": 48,
   "metadata": {},
   "outputs": [
    {
     "output_type": "execute_result",
     "data": {
      "text/plain": [
       "-1.0069776586295385"
      ]
     },
     "metadata": {},
     "execution_count": 48
    }
   ],
   "source": [
    "df.iloc[1, 1]"
   ]
  },
  {
   "cell_type": "code",
   "execution_count": 49,
   "metadata": {},
   "outputs": [
    {
     "output_type": "execute_result",
     "data": {
      "text/plain": [
       "-1.0069776586295385"
      ]
     },
     "metadata": {},
     "execution_count": 49
    }
   ],
   "source": [
    "df.iat[1, 1]"
   ]
  },
  {
   "cell_type": "code",
   "execution_count": 50,
   "metadata": {},
   "outputs": [
    {
     "output_type": "execute_result",
     "data": {
      "text/plain": [
       "                   A         B         C         D\n",
       "2013-01-03  0.232575  0.067182  0.097336 -0.223412\n",
       "2013-01-04  0.141039 -0.528826  0.682941  1.197924"
      ],
      "text/html": "<div>\n<style scoped>\n    .dataframe tbody tr th:only-of-type {\n        vertical-align: middle;\n    }\n\n    .dataframe tbody tr th {\n        vertical-align: top;\n    }\n\n    .dataframe thead th {\n        text-align: right;\n    }\n</style>\n<table border=\"1\" class=\"dataframe\">\n  <thead>\n    <tr style=\"text-align: right;\">\n      <th></th>\n      <th>A</th>\n      <th>B</th>\n      <th>C</th>\n      <th>D</th>\n    </tr>\n  </thead>\n  <tbody>\n    <tr>\n      <td>2013-01-03</td>\n      <td>0.232575</td>\n      <td>0.067182</td>\n      <td>0.097336</td>\n      <td>-0.223412</td>\n    </tr>\n    <tr>\n      <td>2013-01-04</td>\n      <td>0.141039</td>\n      <td>-0.528826</td>\n      <td>0.682941</td>\n      <td>1.197924</td>\n    </tr>\n  </tbody>\n</table>\n</div>"
     },
     "metadata": {},
     "execution_count": 50
    }
   ],
   "source": [
    "df[df.A > 0]"
   ]
  },
  {
   "cell_type": "code",
   "execution_count": 51,
   "metadata": {},
   "outputs": [
    {
     "output_type": "execute_result",
     "data": {
      "text/plain": [
       "                   A         B         C         D\n",
       "2013-01-01       NaN  1.704290  0.935510  0.425142\n",
       "2013-01-02       NaN       NaN  0.772403       NaN\n",
       "2013-01-03  0.232575  0.067182  0.097336       NaN\n",
       "2013-01-04  0.141039       NaN  0.682941  1.197924\n",
       "2013-01-05       NaN       NaN       NaN       NaN\n",
       "2013-01-06       NaN       NaN  0.389103  1.582519"
      ],
      "text/html": "<div>\n<style scoped>\n    .dataframe tbody tr th:only-of-type {\n        vertical-align: middle;\n    }\n\n    .dataframe tbody tr th {\n        vertical-align: top;\n    }\n\n    .dataframe thead th {\n        text-align: right;\n    }\n</style>\n<table border=\"1\" class=\"dataframe\">\n  <thead>\n    <tr style=\"text-align: right;\">\n      <th></th>\n      <th>A</th>\n      <th>B</th>\n      <th>C</th>\n      <th>D</th>\n    </tr>\n  </thead>\n  <tbody>\n    <tr>\n      <td>2013-01-01</td>\n      <td>NaN</td>\n      <td>1.704290</td>\n      <td>0.935510</td>\n      <td>0.425142</td>\n    </tr>\n    <tr>\n      <td>2013-01-02</td>\n      <td>NaN</td>\n      <td>NaN</td>\n      <td>0.772403</td>\n      <td>NaN</td>\n    </tr>\n    <tr>\n      <td>2013-01-03</td>\n      <td>0.232575</td>\n      <td>0.067182</td>\n      <td>0.097336</td>\n      <td>NaN</td>\n    </tr>\n    <tr>\n      <td>2013-01-04</td>\n      <td>0.141039</td>\n      <td>NaN</td>\n      <td>0.682941</td>\n      <td>1.197924</td>\n    </tr>\n    <tr>\n      <td>2013-01-05</td>\n      <td>NaN</td>\n      <td>NaN</td>\n      <td>NaN</td>\n      <td>NaN</td>\n    </tr>\n    <tr>\n      <td>2013-01-06</td>\n      <td>NaN</td>\n      <td>NaN</td>\n      <td>0.389103</td>\n      <td>1.582519</td>\n    </tr>\n  </tbody>\n</table>\n</div>"
     },
     "metadata": {},
     "execution_count": 51
    }
   ],
   "source": [
    "df[df > 0]"
   ]
  },
  {
   "cell_type": "code",
   "execution_count": 52,
   "metadata": {},
   "outputs": [],
   "source": [
    "df2 = df.copy()"
   ]
  },
  {
   "cell_type": "code",
   "execution_count": 53,
   "metadata": {},
   "outputs": [],
   "source": [
    "df2['E'] = ['one', 'one','two','three','four','three']"
   ]
  },
  {
   "cell_type": "code",
   "execution_count": 54,
   "metadata": {},
   "outputs": [
    {
     "output_type": "execute_result",
     "data": {
      "text/plain": [
       "                   A         B         C         D      E\n",
       "2013-01-01 -0.272729  1.704290  0.935510  0.425142    one\n",
       "2013-01-02 -1.544084 -1.006978  0.772403 -0.177729    one\n",
       "2013-01-03  0.232575  0.067182  0.097336 -0.223412    two\n",
       "2013-01-04  0.141039 -0.528826  0.682941  1.197924  three\n",
       "2013-01-05 -0.705002 -0.868117 -1.648048 -0.207667   four\n",
       "2013-01-06 -1.557556 -0.995786  0.389103  1.582519  three"
      ],
      "text/html": "<div>\n<style scoped>\n    .dataframe tbody tr th:only-of-type {\n        vertical-align: middle;\n    }\n\n    .dataframe tbody tr th {\n        vertical-align: top;\n    }\n\n    .dataframe thead th {\n        text-align: right;\n    }\n</style>\n<table border=\"1\" class=\"dataframe\">\n  <thead>\n    <tr style=\"text-align: right;\">\n      <th></th>\n      <th>A</th>\n      <th>B</th>\n      <th>C</th>\n      <th>D</th>\n      <th>E</th>\n    </tr>\n  </thead>\n  <tbody>\n    <tr>\n      <td>2013-01-01</td>\n      <td>-0.272729</td>\n      <td>1.704290</td>\n      <td>0.935510</td>\n      <td>0.425142</td>\n      <td>one</td>\n    </tr>\n    <tr>\n      <td>2013-01-02</td>\n      <td>-1.544084</td>\n      <td>-1.006978</td>\n      <td>0.772403</td>\n      <td>-0.177729</td>\n      <td>one</td>\n    </tr>\n    <tr>\n      <td>2013-01-03</td>\n      <td>0.232575</td>\n      <td>0.067182</td>\n      <td>0.097336</td>\n      <td>-0.223412</td>\n      <td>two</td>\n    </tr>\n    <tr>\n      <td>2013-01-04</td>\n      <td>0.141039</td>\n      <td>-0.528826</td>\n      <td>0.682941</td>\n      <td>1.197924</td>\n      <td>three</td>\n    </tr>\n    <tr>\n      <td>2013-01-05</td>\n      <td>-0.705002</td>\n      <td>-0.868117</td>\n      <td>-1.648048</td>\n      <td>-0.207667</td>\n      <td>four</td>\n    </tr>\n    <tr>\n      <td>2013-01-06</td>\n      <td>-1.557556</td>\n      <td>-0.995786</td>\n      <td>0.389103</td>\n      <td>1.582519</td>\n      <td>three</td>\n    </tr>\n  </tbody>\n</table>\n</div>"
     },
     "metadata": {},
     "execution_count": 54
    }
   ],
   "source": [
    "df2"
   ]
  },
  {
   "cell_type": "code",
   "execution_count": 55,
   "metadata": {},
   "outputs": [
    {
     "output_type": "execute_result",
     "data": {
      "text/plain": [
       "                   A         B         C         D     E\n",
       "2013-01-03  0.232575  0.067182  0.097336 -0.223412   two\n",
       "2013-01-05 -0.705002 -0.868117 -1.648048 -0.207667  four"
      ],
      "text/html": "<div>\n<style scoped>\n    .dataframe tbody tr th:only-of-type {\n        vertical-align: middle;\n    }\n\n    .dataframe tbody tr th {\n        vertical-align: top;\n    }\n\n    .dataframe thead th {\n        text-align: right;\n    }\n</style>\n<table border=\"1\" class=\"dataframe\">\n  <thead>\n    <tr style=\"text-align: right;\">\n      <th></th>\n      <th>A</th>\n      <th>B</th>\n      <th>C</th>\n      <th>D</th>\n      <th>E</th>\n    </tr>\n  </thead>\n  <tbody>\n    <tr>\n      <td>2013-01-03</td>\n      <td>0.232575</td>\n      <td>0.067182</td>\n      <td>0.097336</td>\n      <td>-0.223412</td>\n      <td>two</td>\n    </tr>\n    <tr>\n      <td>2013-01-05</td>\n      <td>-0.705002</td>\n      <td>-0.868117</td>\n      <td>-1.648048</td>\n      <td>-0.207667</td>\n      <td>four</td>\n    </tr>\n  </tbody>\n</table>\n</div>"
     },
     "metadata": {},
     "execution_count": 55
    }
   ],
   "source": [
    "df2[df2['E'].isin(['two','four'])]"
   ]
  },
  {
   "cell_type": "code",
   "execution_count": 56,
   "metadata": {},
   "outputs": [],
   "source": [
    "s1 = pd.Series([1, 2, 3, 4, 5, 6], index=pd.date_range('20130102', periods=6))"
   ]
  },
  {
   "cell_type": "code",
   "execution_count": 57,
   "metadata": {},
   "outputs": [
    {
     "output_type": "execute_result",
     "data": {
      "text/plain": [
       "2013-01-02    1\n",
       "2013-01-03    2\n",
       "2013-01-04    3\n",
       "2013-01-05    4\n",
       "2013-01-06    5\n",
       "2013-01-07    6\n",
       "Freq: D, dtype: int64"
      ]
     },
     "metadata": {},
     "execution_count": 57
    }
   ],
   "source": [
    "s1"
   ]
  },
  {
   "cell_type": "code",
   "execution_count": 58,
   "metadata": {},
   "outputs": [],
   "source": [
    "df['F'] = s1"
   ]
  },
  {
   "cell_type": "code",
   "execution_count": 59,
   "metadata": {},
   "outputs": [],
   "source": [
    "df.at[dates[0],'A'] = 0"
   ]
  },
  {
   "cell_type": "code",
   "execution_count": 60,
   "metadata": {},
   "outputs": [],
   "source": [
    "df.iat[0, 1] = 0"
   ]
  },
  {
   "cell_type": "code",
   "execution_count": 62,
   "metadata": {},
   "outputs": [],
   "source": [
    "df.loc[:,'D'] = np.array([5] * len(df))"
   ]
  },
  {
   "cell_type": "code",
   "execution_count": 63,
   "metadata": {},
   "outputs": [
    {
     "output_type": "execute_result",
     "data": {
      "text/plain": [
       "                   A         B         C  D    F\n",
       "2013-01-01  0.000000  0.000000  0.935510  5  NaN\n",
       "2013-01-02 -1.544084 -1.006978  0.772403  5  1.0\n",
       "2013-01-03  0.232575  0.067182  0.097336  5  2.0\n",
       "2013-01-04  0.141039 -0.528826  0.682941  5  3.0\n",
       "2013-01-05 -0.705002 -0.868117 -1.648048  5  4.0\n",
       "2013-01-06 -1.557556 -0.995786  0.389103  5  5.0"
      ],
      "text/html": "<div>\n<style scoped>\n    .dataframe tbody tr th:only-of-type {\n        vertical-align: middle;\n    }\n\n    .dataframe tbody tr th {\n        vertical-align: top;\n    }\n\n    .dataframe thead th {\n        text-align: right;\n    }\n</style>\n<table border=\"1\" class=\"dataframe\">\n  <thead>\n    <tr style=\"text-align: right;\">\n      <th></th>\n      <th>A</th>\n      <th>B</th>\n      <th>C</th>\n      <th>D</th>\n      <th>F</th>\n    </tr>\n  </thead>\n  <tbody>\n    <tr>\n      <td>2013-01-01</td>\n      <td>0.000000</td>\n      <td>0.000000</td>\n      <td>0.935510</td>\n      <td>5</td>\n      <td>NaN</td>\n    </tr>\n    <tr>\n      <td>2013-01-02</td>\n      <td>-1.544084</td>\n      <td>-1.006978</td>\n      <td>0.772403</td>\n      <td>5</td>\n      <td>1.0</td>\n    </tr>\n    <tr>\n      <td>2013-01-03</td>\n      <td>0.232575</td>\n      <td>0.067182</td>\n      <td>0.097336</td>\n      <td>5</td>\n      <td>2.0</td>\n    </tr>\n    <tr>\n      <td>2013-01-04</td>\n      <td>0.141039</td>\n      <td>-0.528826</td>\n      <td>0.682941</td>\n      <td>5</td>\n      <td>3.0</td>\n    </tr>\n    <tr>\n      <td>2013-01-05</td>\n      <td>-0.705002</td>\n      <td>-0.868117</td>\n      <td>-1.648048</td>\n      <td>5</td>\n      <td>4.0</td>\n    </tr>\n    <tr>\n      <td>2013-01-06</td>\n      <td>-1.557556</td>\n      <td>-0.995786</td>\n      <td>0.389103</td>\n      <td>5</td>\n      <td>5.0</td>\n    </tr>\n  </tbody>\n</table>\n</div>"
     },
     "metadata": {},
     "execution_count": 63
    }
   ],
   "source": [
    "df"
   ]
  },
  {
   "cell_type": "code",
   "execution_count": 64,
   "metadata": {},
   "outputs": [],
   "source": [
    "df2 = df.copy()"
   ]
  },
  {
   "cell_type": "code",
   "execution_count": 65,
   "metadata": {},
   "outputs": [],
   "source": [
    "df2[df2 > 0] = -df2"
   ]
  },
  {
   "cell_type": "code",
   "execution_count": 66,
   "metadata": {},
   "outputs": [
    {
     "output_type": "execute_result",
     "data": {
      "text/plain": [
       "                   A         B         C  D    F\n",
       "2013-01-01  0.000000  0.000000 -0.935510 -5  NaN\n",
       "2013-01-02 -1.544084 -1.006978 -0.772403 -5 -1.0\n",
       "2013-01-03 -0.232575 -0.067182 -0.097336 -5 -2.0\n",
       "2013-01-04 -0.141039 -0.528826 -0.682941 -5 -3.0\n",
       "2013-01-05 -0.705002 -0.868117 -1.648048 -5 -4.0\n",
       "2013-01-06 -1.557556 -0.995786 -0.389103 -5 -5.0"
      ],
      "text/html": "<div>\n<style scoped>\n    .dataframe tbody tr th:only-of-type {\n        vertical-align: middle;\n    }\n\n    .dataframe tbody tr th {\n        vertical-align: top;\n    }\n\n    .dataframe thead th {\n        text-align: right;\n    }\n</style>\n<table border=\"1\" class=\"dataframe\">\n  <thead>\n    <tr style=\"text-align: right;\">\n      <th></th>\n      <th>A</th>\n      <th>B</th>\n      <th>C</th>\n      <th>D</th>\n      <th>F</th>\n    </tr>\n  </thead>\n  <tbody>\n    <tr>\n      <td>2013-01-01</td>\n      <td>0.000000</td>\n      <td>0.000000</td>\n      <td>-0.935510</td>\n      <td>-5</td>\n      <td>NaN</td>\n    </tr>\n    <tr>\n      <td>2013-01-02</td>\n      <td>-1.544084</td>\n      <td>-1.006978</td>\n      <td>-0.772403</td>\n      <td>-5</td>\n      <td>-1.0</td>\n    </tr>\n    <tr>\n      <td>2013-01-03</td>\n      <td>-0.232575</td>\n      <td>-0.067182</td>\n      <td>-0.097336</td>\n      <td>-5</td>\n      <td>-2.0</td>\n    </tr>\n    <tr>\n      <td>2013-01-04</td>\n      <td>-0.141039</td>\n      <td>-0.528826</td>\n      <td>-0.682941</td>\n      <td>-5</td>\n      <td>-3.0</td>\n    </tr>\n    <tr>\n      <td>2013-01-05</td>\n      <td>-0.705002</td>\n      <td>-0.868117</td>\n      <td>-1.648048</td>\n      <td>-5</td>\n      <td>-4.0</td>\n    </tr>\n    <tr>\n      <td>2013-01-06</td>\n      <td>-1.557556</td>\n      <td>-0.995786</td>\n      <td>-0.389103</td>\n      <td>-5</td>\n      <td>-5.0</td>\n    </tr>\n  </tbody>\n</table>\n</div>"
     },
     "metadata": {},
     "execution_count": 66
    }
   ],
   "source": [
    "df2"
   ]
  },
  {
   "cell_type": "code",
   "execution_count": 67,
   "metadata": {},
   "outputs": [],
   "source": [
    "df1 = df.reindex(index=dates[0:4], columns=list(df.columns) + ['E'])"
   ]
  },
  {
   "cell_type": "code",
   "execution_count": 68,
   "metadata": {},
   "outputs": [],
   "source": [
    "df1.loc[dates[0]:dates[1],'E'] = 1"
   ]
  },
  {
   "cell_type": "code",
   "execution_count": 69,
   "metadata": {},
   "outputs": [
    {
     "output_type": "execute_result",
     "data": {
      "text/plain": [
       "                   A         B         C  D    F    E\n",
       "2013-01-01  0.000000  0.000000  0.935510  5  NaN  1.0\n",
       "2013-01-02 -1.544084 -1.006978  0.772403  5  1.0  1.0\n",
       "2013-01-03  0.232575  0.067182  0.097336  5  2.0  NaN\n",
       "2013-01-04  0.141039 -0.528826  0.682941  5  3.0  NaN"
      ],
      "text/html": "<div>\n<style scoped>\n    .dataframe tbody tr th:only-of-type {\n        vertical-align: middle;\n    }\n\n    .dataframe tbody tr th {\n        vertical-align: top;\n    }\n\n    .dataframe thead th {\n        text-align: right;\n    }\n</style>\n<table border=\"1\" class=\"dataframe\">\n  <thead>\n    <tr style=\"text-align: right;\">\n      <th></th>\n      <th>A</th>\n      <th>B</th>\n      <th>C</th>\n      <th>D</th>\n      <th>F</th>\n      <th>E</th>\n    </tr>\n  </thead>\n  <tbody>\n    <tr>\n      <td>2013-01-01</td>\n      <td>0.000000</td>\n      <td>0.000000</td>\n      <td>0.935510</td>\n      <td>5</td>\n      <td>NaN</td>\n      <td>1.0</td>\n    </tr>\n    <tr>\n      <td>2013-01-02</td>\n      <td>-1.544084</td>\n      <td>-1.006978</td>\n      <td>0.772403</td>\n      <td>5</td>\n      <td>1.0</td>\n      <td>1.0</td>\n    </tr>\n    <tr>\n      <td>2013-01-03</td>\n      <td>0.232575</td>\n      <td>0.067182</td>\n      <td>0.097336</td>\n      <td>5</td>\n      <td>2.0</td>\n      <td>NaN</td>\n    </tr>\n    <tr>\n      <td>2013-01-04</td>\n      <td>0.141039</td>\n      <td>-0.528826</td>\n      <td>0.682941</td>\n      <td>5</td>\n      <td>3.0</td>\n      <td>NaN</td>\n    </tr>\n  </tbody>\n</table>\n</div>"
     },
     "metadata": {},
     "execution_count": 69
    }
   ],
   "source": [
    "df1"
   ]
  },
  {
   "cell_type": "code",
   "execution_count": 70,
   "metadata": {},
   "outputs": [
    {
     "output_type": "execute_result",
     "data": {
      "text/plain": [
       "                   A         B         C  D    F    E\n",
       "2013-01-02 -1.544084 -1.006978  0.772403  5  1.0  1.0"
      ],
      "text/html": "<div>\n<style scoped>\n    .dataframe tbody tr th:only-of-type {\n        vertical-align: middle;\n    }\n\n    .dataframe tbody tr th {\n        vertical-align: top;\n    }\n\n    .dataframe thead th {\n        text-align: right;\n    }\n</style>\n<table border=\"1\" class=\"dataframe\">\n  <thead>\n    <tr style=\"text-align: right;\">\n      <th></th>\n      <th>A</th>\n      <th>B</th>\n      <th>C</th>\n      <th>D</th>\n      <th>F</th>\n      <th>E</th>\n    </tr>\n  </thead>\n  <tbody>\n    <tr>\n      <td>2013-01-02</td>\n      <td>-1.544084</td>\n      <td>-1.006978</td>\n      <td>0.772403</td>\n      <td>5</td>\n      <td>1.0</td>\n      <td>1.0</td>\n    </tr>\n  </tbody>\n</table>\n</div>"
     },
     "metadata": {},
     "execution_count": 70
    }
   ],
   "source": [
    "df1.dropna(how = 'any')"
   ]
  },
  {
   "cell_type": "code",
   "execution_count": 71,
   "metadata": {},
   "outputs": [
    {
     "output_type": "execute_result",
     "data": {
      "text/plain": [
       "                   A         B         C  D    F    E\n",
       "2013-01-01  0.000000  0.000000  0.935510  5  5.0  1.0\n",
       "2013-01-02 -1.544084 -1.006978  0.772403  5  1.0  1.0\n",
       "2013-01-03  0.232575  0.067182  0.097336  5  2.0  5.0\n",
       "2013-01-04  0.141039 -0.528826  0.682941  5  3.0  5.0"
      ],
      "text/html": "<div>\n<style scoped>\n    .dataframe tbody tr th:only-of-type {\n        vertical-align: middle;\n    }\n\n    .dataframe tbody tr th {\n        vertical-align: top;\n    }\n\n    .dataframe thead th {\n        text-align: right;\n    }\n</style>\n<table border=\"1\" class=\"dataframe\">\n  <thead>\n    <tr style=\"text-align: right;\">\n      <th></th>\n      <th>A</th>\n      <th>B</th>\n      <th>C</th>\n      <th>D</th>\n      <th>F</th>\n      <th>E</th>\n    </tr>\n  </thead>\n  <tbody>\n    <tr>\n      <td>2013-01-01</td>\n      <td>0.000000</td>\n      <td>0.000000</td>\n      <td>0.935510</td>\n      <td>5</td>\n      <td>5.0</td>\n      <td>1.0</td>\n    </tr>\n    <tr>\n      <td>2013-01-02</td>\n      <td>-1.544084</td>\n      <td>-1.006978</td>\n      <td>0.772403</td>\n      <td>5</td>\n      <td>1.0</td>\n      <td>1.0</td>\n    </tr>\n    <tr>\n      <td>2013-01-03</td>\n      <td>0.232575</td>\n      <td>0.067182</td>\n      <td>0.097336</td>\n      <td>5</td>\n      <td>2.0</td>\n      <td>5.0</td>\n    </tr>\n    <tr>\n      <td>2013-01-04</td>\n      <td>0.141039</td>\n      <td>-0.528826</td>\n      <td>0.682941</td>\n      <td>5</td>\n      <td>3.0</td>\n      <td>5.0</td>\n    </tr>\n  </tbody>\n</table>\n</div>"
     },
     "metadata": {},
     "execution_count": 71
    }
   ],
   "source": [
    "df1.fillna(value = 5)"
   ]
  },
  {
   "cell_type": "code",
   "execution_count": 72,
   "metadata": {},
   "outputs": [
    {
     "output_type": "execute_result",
     "data": {
      "text/plain": [
       "                A      B      C      D      F      E\n",
       "2013-01-01  False  False  False  False   True  False\n",
       "2013-01-02  False  False  False  False  False  False\n",
       "2013-01-03  False  False  False  False  False   True\n",
       "2013-01-04  False  False  False  False  False   True"
      ],
      "text/html": "<div>\n<style scoped>\n    .dataframe tbody tr th:only-of-type {\n        vertical-align: middle;\n    }\n\n    .dataframe tbody tr th {\n        vertical-align: top;\n    }\n\n    .dataframe thead th {\n        text-align: right;\n    }\n</style>\n<table border=\"1\" class=\"dataframe\">\n  <thead>\n    <tr style=\"text-align: right;\">\n      <th></th>\n      <th>A</th>\n      <th>B</th>\n      <th>C</th>\n      <th>D</th>\n      <th>F</th>\n      <th>E</th>\n    </tr>\n  </thead>\n  <tbody>\n    <tr>\n      <td>2013-01-01</td>\n      <td>False</td>\n      <td>False</td>\n      <td>False</td>\n      <td>False</td>\n      <td>True</td>\n      <td>False</td>\n    </tr>\n    <tr>\n      <td>2013-01-02</td>\n      <td>False</td>\n      <td>False</td>\n      <td>False</td>\n      <td>False</td>\n      <td>False</td>\n      <td>False</td>\n    </tr>\n    <tr>\n      <td>2013-01-03</td>\n      <td>False</td>\n      <td>False</td>\n      <td>False</td>\n      <td>False</td>\n      <td>False</td>\n      <td>True</td>\n    </tr>\n    <tr>\n      <td>2013-01-04</td>\n      <td>False</td>\n      <td>False</td>\n      <td>False</td>\n      <td>False</td>\n      <td>False</td>\n      <td>True</td>\n    </tr>\n  </tbody>\n</table>\n</div>"
     },
     "metadata": {},
     "execution_count": 72
    }
   ],
   "source": [
    "pd.isna(df1)"
   ]
  },
  {
   "cell_type": "code",
   "execution_count": 73,
   "metadata": {},
   "outputs": [
    {
     "output_type": "execute_result",
     "data": {
      "text/plain": [
       "A   -0.572171\n",
       "B   -0.555421\n",
       "C    0.204874\n",
       "D    5.000000\n",
       "F    3.000000\n",
       "dtype: float64"
      ]
     },
     "metadata": {},
     "execution_count": 73
    }
   ],
   "source": [
    "df.mean()"
   ]
  },
  {
   "cell_type": "code",
   "execution_count": 74,
   "metadata": {},
   "outputs": [
    {
     "output_type": "execute_result",
     "data": {
      "text/plain": [
       "2013-01-01    1.483878\n",
       "2013-01-02    0.844268\n",
       "2013-01-03    1.479419\n",
       "2013-01-04    1.659031\n",
       "2013-01-05    1.155767\n",
       "2013-01-06    1.567152\n",
       "Freq: D, dtype: float64"
      ]
     },
     "metadata": {},
     "execution_count": 74
    }
   ],
   "source": [
    "df.mean(1)"
   ]
  },
  {
   "cell_type": "code",
   "execution_count": 76,
   "metadata": {},
   "outputs": [],
   "source": [
    "s = pd.Series([1,3, 5, np.nan, 6, 8], index=dates).shift(2)"
   ]
  },
  {
   "cell_type": "code",
   "execution_count": 77,
   "metadata": {},
   "outputs": [
    {
     "output_type": "execute_result",
     "data": {
      "text/plain": [
       "2013-01-01    NaN\n",
       "2013-01-02    NaN\n",
       "2013-01-03    1.0\n",
       "2013-01-04    3.0\n",
       "2013-01-05    5.0\n",
       "2013-01-06    NaN\n",
       "Freq: D, dtype: float64"
      ]
     },
     "metadata": {},
     "execution_count": 77
    }
   ],
   "source": [
    "s"
   ]
  },
  {
   "cell_type": "code",
   "execution_count": 78,
   "metadata": {},
   "outputs": [
    {
     "output_type": "execute_result",
     "data": {
      "text/plain": [
       "                   A         B         C    D    F\n",
       "2013-01-01       NaN       NaN       NaN  NaN  NaN\n",
       "2013-01-02       NaN       NaN       NaN  NaN  NaN\n",
       "2013-01-03 -0.767425 -0.932818 -0.902664  4.0  1.0\n",
       "2013-01-04 -2.858961 -3.528826 -2.317059  2.0  0.0\n",
       "2013-01-05 -5.705002 -5.868117 -6.648048  0.0 -1.0\n",
       "2013-01-06       NaN       NaN       NaN  NaN  NaN"
      ],
      "text/html": "<div>\n<style scoped>\n    .dataframe tbody tr th:only-of-type {\n        vertical-align: middle;\n    }\n\n    .dataframe tbody tr th {\n        vertical-align: top;\n    }\n\n    .dataframe thead th {\n        text-align: right;\n    }\n</style>\n<table border=\"1\" class=\"dataframe\">\n  <thead>\n    <tr style=\"text-align: right;\">\n      <th></th>\n      <th>A</th>\n      <th>B</th>\n      <th>C</th>\n      <th>D</th>\n      <th>F</th>\n    </tr>\n  </thead>\n  <tbody>\n    <tr>\n      <td>2013-01-01</td>\n      <td>NaN</td>\n      <td>NaN</td>\n      <td>NaN</td>\n      <td>NaN</td>\n      <td>NaN</td>\n    </tr>\n    <tr>\n      <td>2013-01-02</td>\n      <td>NaN</td>\n      <td>NaN</td>\n      <td>NaN</td>\n      <td>NaN</td>\n      <td>NaN</td>\n    </tr>\n    <tr>\n      <td>2013-01-03</td>\n      <td>-0.767425</td>\n      <td>-0.932818</td>\n      <td>-0.902664</td>\n      <td>4.0</td>\n      <td>1.0</td>\n    </tr>\n    <tr>\n      <td>2013-01-04</td>\n      <td>-2.858961</td>\n      <td>-3.528826</td>\n      <td>-2.317059</td>\n      <td>2.0</td>\n      <td>0.0</td>\n    </tr>\n    <tr>\n      <td>2013-01-05</td>\n      <td>-5.705002</td>\n      <td>-5.868117</td>\n      <td>-6.648048</td>\n      <td>0.0</td>\n      <td>-1.0</td>\n    </tr>\n    <tr>\n      <td>2013-01-06</td>\n      <td>NaN</td>\n      <td>NaN</td>\n      <td>NaN</td>\n      <td>NaN</td>\n      <td>NaN</td>\n    </tr>\n  </tbody>\n</table>\n</div>"
     },
     "metadata": {},
     "execution_count": 78
    }
   ],
   "source": [
    "df.sub(s, axis='index')"
   ]
  },
  {
   "cell_type": "code",
   "execution_count": 79,
   "metadata": {},
   "outputs": [
    {
     "output_type": "execute_result",
     "data": {
      "text/plain": [
       "                   A         B         C   D     F\n",
       "2013-01-01  0.000000  0.000000  0.935510   5   NaN\n",
       "2013-01-02 -1.544084 -1.006978  1.707913  10   1.0\n",
       "2013-01-03 -1.311509 -0.939796  1.805249  15   3.0\n",
       "2013-01-04 -1.170470 -1.468622  2.488190  20   6.0\n",
       "2013-01-05 -1.875472 -2.336739  0.840142  25  10.0\n",
       "2013-01-06 -3.433028 -3.332525  1.229245  30  15.0"
      ],
      "text/html": "<div>\n<style scoped>\n    .dataframe tbody tr th:only-of-type {\n        vertical-align: middle;\n    }\n\n    .dataframe tbody tr th {\n        vertical-align: top;\n    }\n\n    .dataframe thead th {\n        text-align: right;\n    }\n</style>\n<table border=\"1\" class=\"dataframe\">\n  <thead>\n    <tr style=\"text-align: right;\">\n      <th></th>\n      <th>A</th>\n      <th>B</th>\n      <th>C</th>\n      <th>D</th>\n      <th>F</th>\n    </tr>\n  </thead>\n  <tbody>\n    <tr>\n      <td>2013-01-01</td>\n      <td>0.000000</td>\n      <td>0.000000</td>\n      <td>0.935510</td>\n      <td>5</td>\n      <td>NaN</td>\n    </tr>\n    <tr>\n      <td>2013-01-02</td>\n      <td>-1.544084</td>\n      <td>-1.006978</td>\n      <td>1.707913</td>\n      <td>10</td>\n      <td>1.0</td>\n    </tr>\n    <tr>\n      <td>2013-01-03</td>\n      <td>-1.311509</td>\n      <td>-0.939796</td>\n      <td>1.805249</td>\n      <td>15</td>\n      <td>3.0</td>\n    </tr>\n    <tr>\n      <td>2013-01-04</td>\n      <td>-1.170470</td>\n      <td>-1.468622</td>\n      <td>2.488190</td>\n      <td>20</td>\n      <td>6.0</td>\n    </tr>\n    <tr>\n      <td>2013-01-05</td>\n      <td>-1.875472</td>\n      <td>-2.336739</td>\n      <td>0.840142</td>\n      <td>25</td>\n      <td>10.0</td>\n    </tr>\n    <tr>\n      <td>2013-01-06</td>\n      <td>-3.433028</td>\n      <td>-3.332525</td>\n      <td>1.229245</td>\n      <td>30</td>\n      <td>15.0</td>\n    </tr>\n  </tbody>\n</table>\n</div>"
     },
     "metadata": {},
     "execution_count": 79
    }
   ],
   "source": [
    "df.apply(np.cumsum)"
   ]
  },
  {
   "cell_type": "code",
   "execution_count": 80,
   "metadata": {},
   "outputs": [
    {
     "output_type": "execute_result",
     "data": {
      "text/plain": [
       "A    1.790131\n",
       "B    1.074159\n",
       "C    2.583558\n",
       "D    0.000000\n",
       "F    4.000000\n",
       "dtype: float64"
      ]
     },
     "metadata": {},
     "execution_count": 80
    }
   ],
   "source": [
    "df.apply(lambda x: x.max() - x.min())"
   ]
  },
  {
   "cell_type": "code",
   "execution_count": 82,
   "metadata": {},
   "outputs": [],
   "source": [
    "s = pd.Series(np.random.randint(0, 7, size=10))"
   ]
  },
  {
   "cell_type": "code",
   "execution_count": 83,
   "metadata": {},
   "outputs": [
    {
     "output_type": "execute_result",
     "data": {
      "text/plain": [
       "0    5\n",
       "1    6\n",
       "2    4\n",
       "3    3\n",
       "4    3\n",
       "5    6\n",
       "6    3\n",
       "7    4\n",
       "8    2\n",
       "9    3\n",
       "dtype: int32"
      ]
     },
     "metadata": {},
     "execution_count": 83
    }
   ],
   "source": [
    "s"
   ]
  },
  {
   "cell_type": "code",
   "execution_count": 84,
   "metadata": {},
   "outputs": [
    {
     "output_type": "execute_result",
     "data": {
      "text/plain": [
       "3    4\n",
       "6    2\n",
       "4    2\n",
       "5    1\n",
       "2    1\n",
       "dtype: int64"
      ]
     },
     "metadata": {},
     "execution_count": 84
    }
   ],
   "source": [
    "s.value_counts()"
   ]
  },
  {
   "cell_type": "code",
   "execution_count": 85,
   "metadata": {},
   "outputs": [],
   "source": [
    "s = pd.Series(['A','B','C','Aaba','Baca', np.nan, 'CABA','dog','cat'])"
   ]
  },
  {
   "cell_type": "code",
   "execution_count": 86,
   "metadata": {},
   "outputs": [
    {
     "output_type": "execute_result",
     "data": {
      "text/plain": [
       "0       a\n",
       "1       b\n",
       "2       c\n",
       "3    aaba\n",
       "4    baca\n",
       "5     NaN\n",
       "6    caba\n",
       "7     dog\n",
       "8     cat\n",
       "dtype: object"
      ]
     },
     "metadata": {},
     "execution_count": 86
    }
   ],
   "source": [
    "s.str.lower()"
   ]
  },
  {
   "cell_type": "code",
   "execution_count": 88,
   "metadata": {},
   "outputs": [],
   "source": [
    "df = pd.DataFrame(np.random.randn(10, 4))"
   ]
  },
  {
   "cell_type": "code",
   "execution_count": 89,
   "metadata": {},
   "outputs": [
    {
     "output_type": "execute_result",
     "data": {
      "text/plain": [
       "          0         1         2         3\n",
       "0  0.383308 -0.305872  0.183121  1.424269\n",
       "1 -0.681232  1.497996 -0.855753  0.608454\n",
       "2 -0.151275 -0.948477  0.375225  2.790154\n",
       "3 -2.230148  0.218429 -0.469249  1.487787\n",
       "4  0.040851 -1.089875  0.051752  0.587338\n",
       "5  0.775451 -1.713469 -1.147994 -1.910980\n",
       "6 -0.412454  1.033166  0.101891 -0.658207\n",
       "7 -0.090156  1.122191 -0.747358  0.528947\n",
       "8 -0.291487 -0.386435 -0.515740  1.157157\n",
       "9  0.077480  0.524337 -0.824745 -1.228664"
      ],
      "text/html": "<div>\n<style scoped>\n    .dataframe tbody tr th:only-of-type {\n        vertical-align: middle;\n    }\n\n    .dataframe tbody tr th {\n        vertical-align: top;\n    }\n\n    .dataframe thead th {\n        text-align: right;\n    }\n</style>\n<table border=\"1\" class=\"dataframe\">\n  <thead>\n    <tr style=\"text-align: right;\">\n      <th></th>\n      <th>0</th>\n      <th>1</th>\n      <th>2</th>\n      <th>3</th>\n    </tr>\n  </thead>\n  <tbody>\n    <tr>\n      <td>0</td>\n      <td>0.383308</td>\n      <td>-0.305872</td>\n      <td>0.183121</td>\n      <td>1.424269</td>\n    </tr>\n    <tr>\n      <td>1</td>\n      <td>-0.681232</td>\n      <td>1.497996</td>\n      <td>-0.855753</td>\n      <td>0.608454</td>\n    </tr>\n    <tr>\n      <td>2</td>\n      <td>-0.151275</td>\n      <td>-0.948477</td>\n      <td>0.375225</td>\n      <td>2.790154</td>\n    </tr>\n    <tr>\n      <td>3</td>\n      <td>-2.230148</td>\n      <td>0.218429</td>\n      <td>-0.469249</td>\n      <td>1.487787</td>\n    </tr>\n    <tr>\n      <td>4</td>\n      <td>0.040851</td>\n      <td>-1.089875</td>\n      <td>0.051752</td>\n      <td>0.587338</td>\n    </tr>\n    <tr>\n      <td>5</td>\n      <td>0.775451</td>\n      <td>-1.713469</td>\n      <td>-1.147994</td>\n      <td>-1.910980</td>\n    </tr>\n    <tr>\n      <td>6</td>\n      <td>-0.412454</td>\n      <td>1.033166</td>\n      <td>0.101891</td>\n      <td>-0.658207</td>\n    </tr>\n    <tr>\n      <td>7</td>\n      <td>-0.090156</td>\n      <td>1.122191</td>\n      <td>-0.747358</td>\n      <td>0.528947</td>\n    </tr>\n    <tr>\n      <td>8</td>\n      <td>-0.291487</td>\n      <td>-0.386435</td>\n      <td>-0.515740</td>\n      <td>1.157157</td>\n    </tr>\n    <tr>\n      <td>9</td>\n      <td>0.077480</td>\n      <td>0.524337</td>\n      <td>-0.824745</td>\n      <td>-1.228664</td>\n    </tr>\n  </tbody>\n</table>\n</div>"
     },
     "metadata": {},
     "execution_count": 89
    }
   ],
   "source": [
    "df"
   ]
  },
  {
   "cell_type": "code",
   "execution_count": 90,
   "metadata": {},
   "outputs": [],
   "source": [
    "pieces = [df[:3], df[3:7], df[7:]]"
   ]
  },
  {
   "cell_type": "code",
   "execution_count": 91,
   "metadata": {},
   "outputs": [
    {
     "output_type": "execute_result",
     "data": {
      "text/plain": [
       "          0         1         2         3\n",
       "0  0.383308 -0.305872  0.183121  1.424269\n",
       "1 -0.681232  1.497996 -0.855753  0.608454\n",
       "2 -0.151275 -0.948477  0.375225  2.790154\n",
       "3 -2.230148  0.218429 -0.469249  1.487787\n",
       "4  0.040851 -1.089875  0.051752  0.587338\n",
       "5  0.775451 -1.713469 -1.147994 -1.910980\n",
       "6 -0.412454  1.033166  0.101891 -0.658207\n",
       "7 -0.090156  1.122191 -0.747358  0.528947\n",
       "8 -0.291487 -0.386435 -0.515740  1.157157\n",
       "9  0.077480  0.524337 -0.824745 -1.228664"
      ],
      "text/html": "<div>\n<style scoped>\n    .dataframe tbody tr th:only-of-type {\n        vertical-align: middle;\n    }\n\n    .dataframe tbody tr th {\n        vertical-align: top;\n    }\n\n    .dataframe thead th {\n        text-align: right;\n    }\n</style>\n<table border=\"1\" class=\"dataframe\">\n  <thead>\n    <tr style=\"text-align: right;\">\n      <th></th>\n      <th>0</th>\n      <th>1</th>\n      <th>2</th>\n      <th>3</th>\n    </tr>\n  </thead>\n  <tbody>\n    <tr>\n      <td>0</td>\n      <td>0.383308</td>\n      <td>-0.305872</td>\n      <td>0.183121</td>\n      <td>1.424269</td>\n    </tr>\n    <tr>\n      <td>1</td>\n      <td>-0.681232</td>\n      <td>1.497996</td>\n      <td>-0.855753</td>\n      <td>0.608454</td>\n    </tr>\n    <tr>\n      <td>2</td>\n      <td>-0.151275</td>\n      <td>-0.948477</td>\n      <td>0.375225</td>\n      <td>2.790154</td>\n    </tr>\n    <tr>\n      <td>3</td>\n      <td>-2.230148</td>\n      <td>0.218429</td>\n      <td>-0.469249</td>\n      <td>1.487787</td>\n    </tr>\n    <tr>\n      <td>4</td>\n      <td>0.040851</td>\n      <td>-1.089875</td>\n      <td>0.051752</td>\n      <td>0.587338</td>\n    </tr>\n    <tr>\n      <td>5</td>\n      <td>0.775451</td>\n      <td>-1.713469</td>\n      <td>-1.147994</td>\n      <td>-1.910980</td>\n    </tr>\n    <tr>\n      <td>6</td>\n      <td>-0.412454</td>\n      <td>1.033166</td>\n      <td>0.101891</td>\n      <td>-0.658207</td>\n    </tr>\n    <tr>\n      <td>7</td>\n      <td>-0.090156</td>\n      <td>1.122191</td>\n      <td>-0.747358</td>\n      <td>0.528947</td>\n    </tr>\n    <tr>\n      <td>8</td>\n      <td>-0.291487</td>\n      <td>-0.386435</td>\n      <td>-0.515740</td>\n      <td>1.157157</td>\n    </tr>\n    <tr>\n      <td>9</td>\n      <td>0.077480</td>\n      <td>0.524337</td>\n      <td>-0.824745</td>\n      <td>-1.228664</td>\n    </tr>\n  </tbody>\n</table>\n</div>"
     },
     "metadata": {},
     "execution_count": 91
    }
   ],
   "source": [
    "pd.concat(pieces)"
   ]
  },
  {
   "cell_type": "code",
   "execution_count": 92,
   "metadata": {},
   "outputs": [],
   "source": [
    "left = pd.DataFrame({'key':['foo','foo'], 'lval':[1, 2]})"
   ]
  },
  {
   "cell_type": "code",
   "execution_count": 93,
   "metadata": {},
   "outputs": [],
   "source": [
    "right = pd.DataFrame({'key': ['foo', 'foo'], 'rval': [4, 5]})"
   ]
  },
  {
   "cell_type": "code",
   "execution_count": 94,
   "metadata": {},
   "outputs": [
    {
     "output_type": "execute_result",
     "data": {
      "text/plain": [
       "   key  lval\n",
       "0  foo     1\n",
       "1  foo     2"
      ],
      "text/html": "<div>\n<style scoped>\n    .dataframe tbody tr th:only-of-type {\n        vertical-align: middle;\n    }\n\n    .dataframe tbody tr th {\n        vertical-align: top;\n    }\n\n    .dataframe thead th {\n        text-align: right;\n    }\n</style>\n<table border=\"1\" class=\"dataframe\">\n  <thead>\n    <tr style=\"text-align: right;\">\n      <th></th>\n      <th>key</th>\n      <th>lval</th>\n    </tr>\n  </thead>\n  <tbody>\n    <tr>\n      <td>0</td>\n      <td>foo</td>\n      <td>1</td>\n    </tr>\n    <tr>\n      <td>1</td>\n      <td>foo</td>\n      <td>2</td>\n    </tr>\n  </tbody>\n</table>\n</div>"
     },
     "metadata": {},
     "execution_count": 94
    }
   ],
   "source": [
    "left"
   ]
  },
  {
   "cell_type": "code",
   "execution_count": 95,
   "metadata": {},
   "outputs": [
    {
     "output_type": "execute_result",
     "data": {
      "text/plain": [
       "   key  rval\n",
       "0  foo     4\n",
       "1  foo     5"
      ],
      "text/html": "<div>\n<style scoped>\n    .dataframe tbody tr th:only-of-type {\n        vertical-align: middle;\n    }\n\n    .dataframe tbody tr th {\n        vertical-align: top;\n    }\n\n    .dataframe thead th {\n        text-align: right;\n    }\n</style>\n<table border=\"1\" class=\"dataframe\">\n  <thead>\n    <tr style=\"text-align: right;\">\n      <th></th>\n      <th>key</th>\n      <th>rval</th>\n    </tr>\n  </thead>\n  <tbody>\n    <tr>\n      <td>0</td>\n      <td>foo</td>\n      <td>4</td>\n    </tr>\n    <tr>\n      <td>1</td>\n      <td>foo</td>\n      <td>5</td>\n    </tr>\n  </tbody>\n</table>\n</div>"
     },
     "metadata": {},
     "execution_count": 95
    }
   ],
   "source": [
    "right"
   ]
  },
  {
   "cell_type": "code",
   "execution_count": 96,
   "metadata": {},
   "outputs": [
    {
     "output_type": "execute_result",
     "data": {
      "text/plain": [
       "   key  lval  rval\n",
       "0  foo     1     4\n",
       "1  foo     1     5\n",
       "2  foo     2     4\n",
       "3  foo     2     5"
      ],
      "text/html": "<div>\n<style scoped>\n    .dataframe tbody tr th:only-of-type {\n        vertical-align: middle;\n    }\n\n    .dataframe tbody tr th {\n        vertical-align: top;\n    }\n\n    .dataframe thead th {\n        text-align: right;\n    }\n</style>\n<table border=\"1\" class=\"dataframe\">\n  <thead>\n    <tr style=\"text-align: right;\">\n      <th></th>\n      <th>key</th>\n      <th>lval</th>\n      <th>rval</th>\n    </tr>\n  </thead>\n  <tbody>\n    <tr>\n      <td>0</td>\n      <td>foo</td>\n      <td>1</td>\n      <td>4</td>\n    </tr>\n    <tr>\n      <td>1</td>\n      <td>foo</td>\n      <td>1</td>\n      <td>5</td>\n    </tr>\n    <tr>\n      <td>2</td>\n      <td>foo</td>\n      <td>2</td>\n      <td>4</td>\n    </tr>\n    <tr>\n      <td>3</td>\n      <td>foo</td>\n      <td>2</td>\n      <td>5</td>\n    </tr>\n  </tbody>\n</table>\n</div>"
     },
     "metadata": {},
     "execution_count": 96
    }
   ],
   "source": [
    "pd.merge(left, right, on = 'key')"
   ]
  },
  {
   "cell_type": "code",
   "execution_count": 97,
   "metadata": {},
   "outputs": [],
   "source": [
    "df = pd.DataFrame(np.random.randn(8, 4), columns=['A','B','C','D'])"
   ]
  },
  {
   "cell_type": "code",
   "execution_count": 98,
   "metadata": {},
   "outputs": [
    {
     "output_type": "execute_result",
     "data": {
      "text/plain": [
       "          A         B         C         D\n",
       "0 -0.008768 -0.234757 -0.481784 -1.181587\n",
       "1 -0.354716  0.313011 -0.774605 -0.298923\n",
       "2  0.101993 -0.247856  1.692443  0.695420\n",
       "3  0.754297 -0.849833 -2.133472 -0.336293\n",
       "4  0.187320  1.474407  1.740719 -0.788970\n",
       "5 -0.067553 -0.535222  0.971029 -0.072572\n",
       "6  0.912984  0.246099  0.979811  1.189410\n",
       "7  0.413700 -0.245098 -0.354072  0.534513"
      ],
      "text/html": "<div>\n<style scoped>\n    .dataframe tbody tr th:only-of-type {\n        vertical-align: middle;\n    }\n\n    .dataframe tbody tr th {\n        vertical-align: top;\n    }\n\n    .dataframe thead th {\n        text-align: right;\n    }\n</style>\n<table border=\"1\" class=\"dataframe\">\n  <thead>\n    <tr style=\"text-align: right;\">\n      <th></th>\n      <th>A</th>\n      <th>B</th>\n      <th>C</th>\n      <th>D</th>\n    </tr>\n  </thead>\n  <tbody>\n    <tr>\n      <td>0</td>\n      <td>-0.008768</td>\n      <td>-0.234757</td>\n      <td>-0.481784</td>\n      <td>-1.181587</td>\n    </tr>\n    <tr>\n      <td>1</td>\n      <td>-0.354716</td>\n      <td>0.313011</td>\n      <td>-0.774605</td>\n      <td>-0.298923</td>\n    </tr>\n    <tr>\n      <td>2</td>\n      <td>0.101993</td>\n      <td>-0.247856</td>\n      <td>1.692443</td>\n      <td>0.695420</td>\n    </tr>\n    <tr>\n      <td>3</td>\n      <td>0.754297</td>\n      <td>-0.849833</td>\n      <td>-2.133472</td>\n      <td>-0.336293</td>\n    </tr>\n    <tr>\n      <td>4</td>\n      <td>0.187320</td>\n      <td>1.474407</td>\n      <td>1.740719</td>\n      <td>-0.788970</td>\n    </tr>\n    <tr>\n      <td>5</td>\n      <td>-0.067553</td>\n      <td>-0.535222</td>\n      <td>0.971029</td>\n      <td>-0.072572</td>\n    </tr>\n    <tr>\n      <td>6</td>\n      <td>0.912984</td>\n      <td>0.246099</td>\n      <td>0.979811</td>\n      <td>1.189410</td>\n    </tr>\n    <tr>\n      <td>7</td>\n      <td>0.413700</td>\n      <td>-0.245098</td>\n      <td>-0.354072</td>\n      <td>0.534513</td>\n    </tr>\n  </tbody>\n</table>\n</div>"
     },
     "metadata": {},
     "execution_count": 98
    }
   ],
   "source": [
    "df"
   ]
  },
  {
   "cell_type": "code",
   "execution_count": 99,
   "metadata": {},
   "outputs": [],
   "source": [
    "s = df.iloc[3]"
   ]
  },
  {
   "cell_type": "code",
   "execution_count": 100,
   "metadata": {},
   "outputs": [
    {
     "output_type": "execute_result",
     "data": {
      "text/plain": [
       "          A         B         C         D\n",
       "0 -0.008768 -0.234757 -0.481784 -1.181587\n",
       "1 -0.354716  0.313011 -0.774605 -0.298923\n",
       "2  0.101993 -0.247856  1.692443  0.695420\n",
       "3  0.754297 -0.849833 -2.133472 -0.336293\n",
       "4  0.187320  1.474407  1.740719 -0.788970\n",
       "5 -0.067553 -0.535222  0.971029 -0.072572\n",
       "6  0.912984  0.246099  0.979811  1.189410\n",
       "7  0.413700 -0.245098 -0.354072  0.534513\n",
       "8  0.754297 -0.849833 -2.133472 -0.336293"
      ],
      "text/html": "<div>\n<style scoped>\n    .dataframe tbody tr th:only-of-type {\n        vertical-align: middle;\n    }\n\n    .dataframe tbody tr th {\n        vertical-align: top;\n    }\n\n    .dataframe thead th {\n        text-align: right;\n    }\n</style>\n<table border=\"1\" class=\"dataframe\">\n  <thead>\n    <tr style=\"text-align: right;\">\n      <th></th>\n      <th>A</th>\n      <th>B</th>\n      <th>C</th>\n      <th>D</th>\n    </tr>\n  </thead>\n  <tbody>\n    <tr>\n      <td>0</td>\n      <td>-0.008768</td>\n      <td>-0.234757</td>\n      <td>-0.481784</td>\n      <td>-1.181587</td>\n    </tr>\n    <tr>\n      <td>1</td>\n      <td>-0.354716</td>\n      <td>0.313011</td>\n      <td>-0.774605</td>\n      <td>-0.298923</td>\n    </tr>\n    <tr>\n      <td>2</td>\n      <td>0.101993</td>\n      <td>-0.247856</td>\n      <td>1.692443</td>\n      <td>0.695420</td>\n    </tr>\n    <tr>\n      <td>3</td>\n      <td>0.754297</td>\n      <td>-0.849833</td>\n      <td>-2.133472</td>\n      <td>-0.336293</td>\n    </tr>\n    <tr>\n      <td>4</td>\n      <td>0.187320</td>\n      <td>1.474407</td>\n      <td>1.740719</td>\n      <td>-0.788970</td>\n    </tr>\n    <tr>\n      <td>5</td>\n      <td>-0.067553</td>\n      <td>-0.535222</td>\n      <td>0.971029</td>\n      <td>-0.072572</td>\n    </tr>\n    <tr>\n      <td>6</td>\n      <td>0.912984</td>\n      <td>0.246099</td>\n      <td>0.979811</td>\n      <td>1.189410</td>\n    </tr>\n    <tr>\n      <td>7</td>\n      <td>0.413700</td>\n      <td>-0.245098</td>\n      <td>-0.354072</td>\n      <td>0.534513</td>\n    </tr>\n    <tr>\n      <td>8</td>\n      <td>0.754297</td>\n      <td>-0.849833</td>\n      <td>-2.133472</td>\n      <td>-0.336293</td>\n    </tr>\n  </tbody>\n</table>\n</div>"
     },
     "metadata": {},
     "execution_count": 100
    }
   ],
   "source": [
    "df.append(s, ignore_index=True)"
   ]
  },
  {
   "cell_type": "code",
   "execution_count": null,
   "metadata": {},
   "outputs": [],
   "source": []
  }
 ]
}