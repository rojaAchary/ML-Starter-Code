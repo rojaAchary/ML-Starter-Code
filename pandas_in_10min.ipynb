{
 "metadata": {
  "language_info": {
   "codemirror_mode": {
    "name": "ipython",
    "version": 3
   },
   "file_extension": ".py",
   "mimetype": "text/x-python",
   "name": "python",
   "nbconvert_exporter": "python",
   "pygments_lexer": "ipython3",
   "version": "3.7.4"
  },
  "orig_nbformat": 4,
  "kernelspec": {
   "name": "python3",
   "display_name": "Python 3.7.4 64-bit ('base': conda)"
  },
  "interpreter": {
   "hash": "d672ffddfb71b577ac712eae2e698e6731c8003177c144ad3e92edc65bed914c"
  }
 },
 "nbformat": 4,
 "nbformat_minor": 2,
 "cells": [
  {
   "cell_type": "code",
   "execution_count": null,
   "metadata": {},
   "outputs": [],
   "source": [
    "#author: Roja_Achary"
   ]
  },
  {
   "cell_type": "code",
   "execution_count": 4,
   "metadata": {},
   "outputs": [],
   "source": [
    "import numpy as np"
   ]
  },
  {
   "cell_type": "code",
   "execution_count": 5,
   "metadata": {},
   "outputs": [],
   "source": [
    "import pandas as pd"
   ]
  },
  {
   "cell_type": "code",
   "execution_count": 8,
   "metadata": {},
   "outputs": [],
   "source": [
    "s = pd.Series([1, 3, 5, np.nan, 6, 8])"
   ]
  },
  {
   "cell_type": "code",
   "execution_count": 9,
   "metadata": {},
   "outputs": [
    {
     "output_type": "execute_result",
     "data": {
      "text/plain": [
       "0    1.0\n",
       "1    3.0\n",
       "2    5.0\n",
       "3    NaN\n",
       "4    6.0\n",
       "5    8.0\n",
       "dtype: float64"
      ]
     },
     "metadata": {},
     "execution_count": 9
    }
   ],
   "source": [
    "s"
   ]
  },
  {
   "cell_type": "code",
   "execution_count": 10,
   "metadata": {},
   "outputs": [],
   "source": [
    "dates = pd.date_range(\"20130101\", periods=6)"
   ]
  },
  {
   "cell_type": "code",
   "execution_count": 11,
   "metadata": {},
   "outputs": [
    {
     "output_type": "execute_result",
     "data": {
      "text/plain": [
       "DatetimeIndex(['2013-01-01', '2013-01-02', '2013-01-03', '2013-01-04',\n",
       "               '2013-01-05', '2013-01-06'],\n",
       "              dtype='datetime64[ns]', freq='D')"
      ]
     },
     "metadata": {},
     "execution_count": 11
    }
   ],
   "source": [
    "dates"
   ]
  },
  {
   "cell_type": "code",
   "execution_count": 12,
   "metadata": {},
   "outputs": [],
   "source": [
    "df = pd.DataFrame(np.random.randn(6, 4), index=dates, columns=list(\"ABCD\"))"
   ]
  },
  {
   "cell_type": "code",
   "execution_count": 13,
   "metadata": {},
   "outputs": [
    {
     "output_type": "execute_result",
     "data": {
      "text/plain": [
       "                   A         B         C         D\n",
       "2013-01-01 -0.660403 -0.104224  0.385185  0.738500\n",
       "2013-01-02 -1.406033 -0.811804  0.134133 -1.498537\n",
       "2013-01-03  1.258945 -1.041408  0.507907 -0.036210\n",
       "2013-01-04 -0.032442  0.269865 -0.835087 -0.214461\n",
       "2013-01-05 -0.046180 -1.534910 -0.343570  0.003510\n",
       "2013-01-06 -0.214075  1.485695  0.196018  1.871626"
      ],
      "text/html": "<div>\n<style scoped>\n    .dataframe tbody tr th:only-of-type {\n        vertical-align: middle;\n    }\n\n    .dataframe tbody tr th {\n        vertical-align: top;\n    }\n\n    .dataframe thead th {\n        text-align: right;\n    }\n</style>\n<table border=\"1\" class=\"dataframe\">\n  <thead>\n    <tr style=\"text-align: right;\">\n      <th></th>\n      <th>A</th>\n      <th>B</th>\n      <th>C</th>\n      <th>D</th>\n    </tr>\n  </thead>\n  <tbody>\n    <tr>\n      <td>2013-01-01</td>\n      <td>-0.660403</td>\n      <td>-0.104224</td>\n      <td>0.385185</td>\n      <td>0.738500</td>\n    </tr>\n    <tr>\n      <td>2013-01-02</td>\n      <td>-1.406033</td>\n      <td>-0.811804</td>\n      <td>0.134133</td>\n      <td>-1.498537</td>\n    </tr>\n    <tr>\n      <td>2013-01-03</td>\n      <td>1.258945</td>\n      <td>-1.041408</td>\n      <td>0.507907</td>\n      <td>-0.036210</td>\n    </tr>\n    <tr>\n      <td>2013-01-04</td>\n      <td>-0.032442</td>\n      <td>0.269865</td>\n      <td>-0.835087</td>\n      <td>-0.214461</td>\n    </tr>\n    <tr>\n      <td>2013-01-05</td>\n      <td>-0.046180</td>\n      <td>-1.534910</td>\n      <td>-0.343570</td>\n      <td>0.003510</td>\n    </tr>\n    <tr>\n      <td>2013-01-06</td>\n      <td>-0.214075</td>\n      <td>1.485695</td>\n      <td>0.196018</td>\n      <td>1.871626</td>\n    </tr>\n  </tbody>\n</table>\n</div>"
     },
     "metadata": {},
     "execution_count": 13
    }
   ],
   "source": [
    "df"
   ]
  },
  {
   "cell_type": "code",
   "execution_count": 22,
   "metadata": {},
   "outputs": [],
   "source": [
    "df2 = pd.DataFrame(\n",
    "    {\n",
    "        \"A\": 1.0,\n",
    "        \"B\": pd.Timestamp(\"20130102\"),\n",
    "        \"C\": pd.Series(1, index=list(range(4)), dtype=\"float32\"),\n",
    "        \"D\": np.array([3] * 4, dtype=\"int32\"),\n",
    "        \"E\": pd.Categorical([\"test\", \"train\",\"test\",\"train\"]),\n",
    "        \"F\": \"foo\",\n",
    "    }\n",
    ")\n"
   ]
  },
  {
   "cell_type": "code",
   "execution_count": 23,
   "metadata": {},
   "outputs": [
    {
     "output_type": "execute_result",
     "data": {
      "text/plain": [
       "     A          B    C  D      E    F\n",
       "0  1.0 2013-01-02  1.0  3   test  foo\n",
       "1  1.0 2013-01-02  1.0  3  train  foo\n",
       "2  1.0 2013-01-02  1.0  3   test  foo\n",
       "3  1.0 2013-01-02  1.0  3  train  foo"
      ],
      "text/html": "<div>\n<style scoped>\n    .dataframe tbody tr th:only-of-type {\n        vertical-align: middle;\n    }\n\n    .dataframe tbody tr th {\n        vertical-align: top;\n    }\n\n    .dataframe thead th {\n        text-align: right;\n    }\n</style>\n<table border=\"1\" class=\"dataframe\">\n  <thead>\n    <tr style=\"text-align: right;\">\n      <th></th>\n      <th>A</th>\n      <th>B</th>\n      <th>C</th>\n      <th>D</th>\n      <th>E</th>\n      <th>F</th>\n    </tr>\n  </thead>\n  <tbody>\n    <tr>\n      <td>0</td>\n      <td>1.0</td>\n      <td>2013-01-02</td>\n      <td>1.0</td>\n      <td>3</td>\n      <td>test</td>\n      <td>foo</td>\n    </tr>\n    <tr>\n      <td>1</td>\n      <td>1.0</td>\n      <td>2013-01-02</td>\n      <td>1.0</td>\n      <td>3</td>\n      <td>train</td>\n      <td>foo</td>\n    </tr>\n    <tr>\n      <td>2</td>\n      <td>1.0</td>\n      <td>2013-01-02</td>\n      <td>1.0</td>\n      <td>3</td>\n      <td>test</td>\n      <td>foo</td>\n    </tr>\n    <tr>\n      <td>3</td>\n      <td>1.0</td>\n      <td>2013-01-02</td>\n      <td>1.0</td>\n      <td>3</td>\n      <td>train</td>\n      <td>foo</td>\n    </tr>\n  </tbody>\n</table>\n</div>"
     },
     "metadata": {},
     "execution_count": 23
    }
   ],
   "source": [
    "df2"
   ]
  },
  {
   "cell_type": "code",
   "execution_count": 24,
   "metadata": {},
   "outputs": [
    {
     "output_type": "execute_result",
     "data": {
      "text/plain": [
       "A           float64\n",
       "B    datetime64[ns]\n",
       "C           float32\n",
       "D             int32\n",
       "E          category\n",
       "F            object\n",
       "dtype: object"
      ]
     },
     "metadata": {},
     "execution_count": 24
    }
   ],
   "source": [
    "df2.dtypes"
   ]
  },
  {
   "cell_type": "code",
   "execution_count": 28,
   "metadata": {},
   "outputs": [
    {
     "output_type": "execute_result",
     "data": {
      "text/plain": [
       "                   A         B         C         D\n",
       "2013-01-01 -0.660403 -0.104224  0.385185  0.738500\n",
       "2013-01-02 -1.406033 -0.811804  0.134133 -1.498537\n",
       "2013-01-03  1.258945 -1.041408  0.507907 -0.036210\n",
       "2013-01-04 -0.032442  0.269865 -0.835087 -0.214461\n",
       "2013-01-05 -0.046180 -1.534910 -0.343570  0.003510"
      ],
      "text/html": "<div>\n<style scoped>\n    .dataframe tbody tr th:only-of-type {\n        vertical-align: middle;\n    }\n\n    .dataframe tbody tr th {\n        vertical-align: top;\n    }\n\n    .dataframe thead th {\n        text-align: right;\n    }\n</style>\n<table border=\"1\" class=\"dataframe\">\n  <thead>\n    <tr style=\"text-align: right;\">\n      <th></th>\n      <th>A</th>\n      <th>B</th>\n      <th>C</th>\n      <th>D</th>\n    </tr>\n  </thead>\n  <tbody>\n    <tr>\n      <td>2013-01-01</td>\n      <td>-0.660403</td>\n      <td>-0.104224</td>\n      <td>0.385185</td>\n      <td>0.738500</td>\n    </tr>\n    <tr>\n      <td>2013-01-02</td>\n      <td>-1.406033</td>\n      <td>-0.811804</td>\n      <td>0.134133</td>\n      <td>-1.498537</td>\n    </tr>\n    <tr>\n      <td>2013-01-03</td>\n      <td>1.258945</td>\n      <td>-1.041408</td>\n      <td>0.507907</td>\n      <td>-0.036210</td>\n    </tr>\n    <tr>\n      <td>2013-01-04</td>\n      <td>-0.032442</td>\n      <td>0.269865</td>\n      <td>-0.835087</td>\n      <td>-0.214461</td>\n    </tr>\n    <tr>\n      <td>2013-01-05</td>\n      <td>-0.046180</td>\n      <td>-1.534910</td>\n      <td>-0.343570</td>\n      <td>0.003510</td>\n    </tr>\n  </tbody>\n</table>\n</div>"
     },
     "metadata": {},
     "execution_count": 28
    }
   ],
   "source": [
    "df.head()"
   ]
  },
  {
   "cell_type": "code",
   "execution_count": 29,
   "metadata": {},
   "outputs": [
    {
     "output_type": "execute_result",
     "data": {
      "text/plain": [
       "                   A         B         C         D\n",
       "2013-01-04 -0.032442  0.269865 -0.835087 -0.214461\n",
       "2013-01-05 -0.046180 -1.534910 -0.343570  0.003510\n",
       "2013-01-06 -0.214075  1.485695  0.196018  1.871626"
      ],
      "text/html": "<div>\n<style scoped>\n    .dataframe tbody tr th:only-of-type {\n        vertical-align: middle;\n    }\n\n    .dataframe tbody tr th {\n        vertical-align: top;\n    }\n\n    .dataframe thead th {\n        text-align: right;\n    }\n</style>\n<table border=\"1\" class=\"dataframe\">\n  <thead>\n    <tr style=\"text-align: right;\">\n      <th></th>\n      <th>A</th>\n      <th>B</th>\n      <th>C</th>\n      <th>D</th>\n    </tr>\n  </thead>\n  <tbody>\n    <tr>\n      <td>2013-01-04</td>\n      <td>-0.032442</td>\n      <td>0.269865</td>\n      <td>-0.835087</td>\n      <td>-0.214461</td>\n    </tr>\n    <tr>\n      <td>2013-01-05</td>\n      <td>-0.046180</td>\n      <td>-1.534910</td>\n      <td>-0.343570</td>\n      <td>0.003510</td>\n    </tr>\n    <tr>\n      <td>2013-01-06</td>\n      <td>-0.214075</td>\n      <td>1.485695</td>\n      <td>0.196018</td>\n      <td>1.871626</td>\n    </tr>\n  </tbody>\n</table>\n</div>"
     },
     "metadata": {},
     "execution_count": 29
    }
   ],
   "source": [
    "df.tail(3)"
   ]
  },
  {
   "cell_type": "code",
   "execution_count": 30,
   "metadata": {},
   "outputs": [
    {
     "output_type": "execute_result",
     "data": {
      "text/plain": [
       "DatetimeIndex(['2013-01-01', '2013-01-02', '2013-01-03', '2013-01-04',\n",
       "               '2013-01-05', '2013-01-06'],\n",
       "              dtype='datetime64[ns]', freq='D')"
      ]
     },
     "metadata": {},
     "execution_count": 30
    }
   ],
   "source": [
    "df.index"
   ]
  },
  {
   "cell_type": "code",
   "execution_count": 31,
   "metadata": {},
   "outputs": [
    {
     "output_type": "execute_result",
     "data": {
      "text/plain": [
       "Index(['A', 'B', 'C', 'D'], dtype='object')"
      ]
     },
     "metadata": {},
     "execution_count": 31
    }
   ],
   "source": [
    "df.columns"
   ]
  },
  {
   "cell_type": "code",
   "execution_count": 32,
   "metadata": {},
   "outputs": [
    {
     "output_type": "execute_result",
     "data": {
      "text/plain": [
       "array([[-0.66040323, -0.1042239 ,  0.38518501,  0.73850043],\n",
       "       [-1.40603308, -0.81180371,  0.13413329, -1.49853724],\n",
       "       [ 1.25894545, -1.04140764,  0.5079071 , -0.03621016],\n",
       "       [-0.03244232,  0.26986546, -0.83508664, -0.21446052],\n",
       "       [-0.04618   , -1.53491009, -0.34356985,  0.00351009],\n",
       "       [-0.21407455,  1.48569511,  0.19601845,  1.87162591]])"
      ]
     },
     "metadata": {},
     "execution_count": 32
    }
   ],
   "source": [
    "df.to_numpy()"
   ]
  },
  {
   "cell_type": "code",
   "execution_count": 33,
   "metadata": {},
   "outputs": [
    {
     "output_type": "execute_result",
     "data": {
      "text/plain": [
       "array([[1.0, Timestamp('2013-01-02 00:00:00'), 1.0, 3, 'test', 'foo'],\n",
       "       [1.0, Timestamp('2013-01-02 00:00:00'), 1.0, 3, 'train', 'foo'],\n",
       "       [1.0, Timestamp('2013-01-02 00:00:00'), 1.0, 3, 'test', 'foo'],\n",
       "       [1.0, Timestamp('2013-01-02 00:00:00'), 1.0, 3, 'train', 'foo']],\n",
       "      dtype=object)"
      ]
     },
     "metadata": {},
     "execution_count": 33
    }
   ],
   "source": [
    "df2.to_numpy()"
   ]
  },
  {
   "cell_type": "code",
   "execution_count": 34,
   "metadata": {},
   "outputs": [
    {
     "output_type": "execute_result",
     "data": {
      "text/plain": [
       "              A         B         C         D\n",
       "count  6.000000  6.000000  6.000000  6.000000\n",
       "mean  -0.183365 -0.289464  0.007431  0.144071\n",
       "std    0.876959  1.085149  0.505535  1.115057\n",
       "min   -1.406033 -1.534910 -0.835087 -1.498537\n",
       "25%   -0.548821 -0.984007 -0.224144 -0.169898\n",
       "50%   -0.130127 -0.458014  0.165076 -0.016350\n",
       "75%   -0.035877  0.176343  0.337893  0.554753\n",
       "max    1.258945  1.485695  0.507907  1.871626"
      ],
      "text/html": "<div>\n<style scoped>\n    .dataframe tbody tr th:only-of-type {\n        vertical-align: middle;\n    }\n\n    .dataframe tbody tr th {\n        vertical-align: top;\n    }\n\n    .dataframe thead th {\n        text-align: right;\n    }\n</style>\n<table border=\"1\" class=\"dataframe\">\n  <thead>\n    <tr style=\"text-align: right;\">\n      <th></th>\n      <th>A</th>\n      <th>B</th>\n      <th>C</th>\n      <th>D</th>\n    </tr>\n  </thead>\n  <tbody>\n    <tr>\n      <td>count</td>\n      <td>6.000000</td>\n      <td>6.000000</td>\n      <td>6.000000</td>\n      <td>6.000000</td>\n    </tr>\n    <tr>\n      <td>mean</td>\n      <td>-0.183365</td>\n      <td>-0.289464</td>\n      <td>0.007431</td>\n      <td>0.144071</td>\n    </tr>\n    <tr>\n      <td>std</td>\n      <td>0.876959</td>\n      <td>1.085149</td>\n      <td>0.505535</td>\n      <td>1.115057</td>\n    </tr>\n    <tr>\n      <td>min</td>\n      <td>-1.406033</td>\n      <td>-1.534910</td>\n      <td>-0.835087</td>\n      <td>-1.498537</td>\n    </tr>\n    <tr>\n      <td>25%</td>\n      <td>-0.548821</td>\n      <td>-0.984007</td>\n      <td>-0.224144</td>\n      <td>-0.169898</td>\n    </tr>\n    <tr>\n      <td>50%</td>\n      <td>-0.130127</td>\n      <td>-0.458014</td>\n      <td>0.165076</td>\n      <td>-0.016350</td>\n    </tr>\n    <tr>\n      <td>75%</td>\n      <td>-0.035877</td>\n      <td>0.176343</td>\n      <td>0.337893</td>\n      <td>0.554753</td>\n    </tr>\n    <tr>\n      <td>max</td>\n      <td>1.258945</td>\n      <td>1.485695</td>\n      <td>0.507907</td>\n      <td>1.871626</td>\n    </tr>\n  </tbody>\n</table>\n</div>"
     },
     "metadata": {},
     "execution_count": 34
    }
   ],
   "source": [
    "df.describe()"
   ]
  },
  {
   "cell_type": "code",
   "execution_count": 35,
   "metadata": {},
   "outputs": [
    {
     "output_type": "execute_result",
     "data": {
      "text/plain": [
       "   2013-01-01  2013-01-02  2013-01-03  2013-01-04  2013-01-05  2013-01-06\n",
       "A   -0.660403   -1.406033    1.258945   -0.032442    -0.04618   -0.214075\n",
       "B   -0.104224   -0.811804   -1.041408    0.269865    -1.53491    1.485695\n",
       "C    0.385185    0.134133    0.507907   -0.835087    -0.34357    0.196018\n",
       "D    0.738500   -1.498537   -0.036210   -0.214461     0.00351    1.871626"
      ],
      "text/html": "<div>\n<style scoped>\n    .dataframe tbody tr th:only-of-type {\n        vertical-align: middle;\n    }\n\n    .dataframe tbody tr th {\n        vertical-align: top;\n    }\n\n    .dataframe thead th {\n        text-align: right;\n    }\n</style>\n<table border=\"1\" class=\"dataframe\">\n  <thead>\n    <tr style=\"text-align: right;\">\n      <th></th>\n      <th>2013-01-01</th>\n      <th>2013-01-02</th>\n      <th>2013-01-03</th>\n      <th>2013-01-04</th>\n      <th>2013-01-05</th>\n      <th>2013-01-06</th>\n    </tr>\n  </thead>\n  <tbody>\n    <tr>\n      <td>A</td>\n      <td>-0.660403</td>\n      <td>-1.406033</td>\n      <td>1.258945</td>\n      <td>-0.032442</td>\n      <td>-0.04618</td>\n      <td>-0.214075</td>\n    </tr>\n    <tr>\n      <td>B</td>\n      <td>-0.104224</td>\n      <td>-0.811804</td>\n      <td>-1.041408</td>\n      <td>0.269865</td>\n      <td>-1.53491</td>\n      <td>1.485695</td>\n    </tr>\n    <tr>\n      <td>C</td>\n      <td>0.385185</td>\n      <td>0.134133</td>\n      <td>0.507907</td>\n      <td>-0.835087</td>\n      <td>-0.34357</td>\n      <td>0.196018</td>\n    </tr>\n    <tr>\n      <td>D</td>\n      <td>0.738500</td>\n      <td>-1.498537</td>\n      <td>-0.036210</td>\n      <td>-0.214461</td>\n      <td>0.00351</td>\n      <td>1.871626</td>\n    </tr>\n  </tbody>\n</table>\n</div>"
     },
     "metadata": {},
     "execution_count": 35
    }
   ],
   "source": [
    "df.T"
   ]
  },
  {
   "cell_type": "code",
   "execution_count": 36,
   "metadata": {},
   "outputs": [
    {
     "output_type": "execute_result",
     "data": {
      "text/plain": [
       "                   D         C         B         A\n",
       "2013-01-01  0.738500  0.385185 -0.104224 -0.660403\n",
       "2013-01-02 -1.498537  0.134133 -0.811804 -1.406033\n",
       "2013-01-03 -0.036210  0.507907 -1.041408  1.258945\n",
       "2013-01-04 -0.214461 -0.835087  0.269865 -0.032442\n",
       "2013-01-05  0.003510 -0.343570 -1.534910 -0.046180\n",
       "2013-01-06  1.871626  0.196018  1.485695 -0.214075"
      ],
      "text/html": "<div>\n<style scoped>\n    .dataframe tbody tr th:only-of-type {\n        vertical-align: middle;\n    }\n\n    .dataframe tbody tr th {\n        vertical-align: top;\n    }\n\n    .dataframe thead th {\n        text-align: right;\n    }\n</style>\n<table border=\"1\" class=\"dataframe\">\n  <thead>\n    <tr style=\"text-align: right;\">\n      <th></th>\n      <th>D</th>\n      <th>C</th>\n      <th>B</th>\n      <th>A</th>\n    </tr>\n  </thead>\n  <tbody>\n    <tr>\n      <td>2013-01-01</td>\n      <td>0.738500</td>\n      <td>0.385185</td>\n      <td>-0.104224</td>\n      <td>-0.660403</td>\n    </tr>\n    <tr>\n      <td>2013-01-02</td>\n      <td>-1.498537</td>\n      <td>0.134133</td>\n      <td>-0.811804</td>\n      <td>-1.406033</td>\n    </tr>\n    <tr>\n      <td>2013-01-03</td>\n      <td>-0.036210</td>\n      <td>0.507907</td>\n      <td>-1.041408</td>\n      <td>1.258945</td>\n    </tr>\n    <tr>\n      <td>2013-01-04</td>\n      <td>-0.214461</td>\n      <td>-0.835087</td>\n      <td>0.269865</td>\n      <td>-0.032442</td>\n    </tr>\n    <tr>\n      <td>2013-01-05</td>\n      <td>0.003510</td>\n      <td>-0.343570</td>\n      <td>-1.534910</td>\n      <td>-0.046180</td>\n    </tr>\n    <tr>\n      <td>2013-01-06</td>\n      <td>1.871626</td>\n      <td>0.196018</td>\n      <td>1.485695</td>\n      <td>-0.214075</td>\n    </tr>\n  </tbody>\n</table>\n</div>"
     },
     "metadata": {},
     "execution_count": 36
    }
   ],
   "source": [
    "df.sort_index(axis=1, ascending=False)"
   ]
  },
  {
   "cell_type": "code",
   "execution_count": 37,
   "metadata": {},
   "outputs": [
    {
     "output_type": "execute_result",
     "data": {
      "text/plain": [
       "                   A         B         C         D\n",
       "2013-01-05 -0.046180 -1.534910 -0.343570  0.003510\n",
       "2013-01-03  1.258945 -1.041408  0.507907 -0.036210\n",
       "2013-01-02 -1.406033 -0.811804  0.134133 -1.498537\n",
       "2013-01-01 -0.660403 -0.104224  0.385185  0.738500\n",
       "2013-01-04 -0.032442  0.269865 -0.835087 -0.214461\n",
       "2013-01-06 -0.214075  1.485695  0.196018  1.871626"
      ],
      "text/html": "<div>\n<style scoped>\n    .dataframe tbody tr th:only-of-type {\n        vertical-align: middle;\n    }\n\n    .dataframe tbody tr th {\n        vertical-align: top;\n    }\n\n    .dataframe thead th {\n        text-align: right;\n    }\n</style>\n<table border=\"1\" class=\"dataframe\">\n  <thead>\n    <tr style=\"text-align: right;\">\n      <th></th>\n      <th>A</th>\n      <th>B</th>\n      <th>C</th>\n      <th>D</th>\n    </tr>\n  </thead>\n  <tbody>\n    <tr>\n      <td>2013-01-05</td>\n      <td>-0.046180</td>\n      <td>-1.534910</td>\n      <td>-0.343570</td>\n      <td>0.003510</td>\n    </tr>\n    <tr>\n      <td>2013-01-03</td>\n      <td>1.258945</td>\n      <td>-1.041408</td>\n      <td>0.507907</td>\n      <td>-0.036210</td>\n    </tr>\n    <tr>\n      <td>2013-01-02</td>\n      <td>-1.406033</td>\n      <td>-0.811804</td>\n      <td>0.134133</td>\n      <td>-1.498537</td>\n    </tr>\n    <tr>\n      <td>2013-01-01</td>\n      <td>-0.660403</td>\n      <td>-0.104224</td>\n      <td>0.385185</td>\n      <td>0.738500</td>\n    </tr>\n    <tr>\n      <td>2013-01-04</td>\n      <td>-0.032442</td>\n      <td>0.269865</td>\n      <td>-0.835087</td>\n      <td>-0.214461</td>\n    </tr>\n    <tr>\n      <td>2013-01-06</td>\n      <td>-0.214075</td>\n      <td>1.485695</td>\n      <td>0.196018</td>\n      <td>1.871626</td>\n    </tr>\n  </tbody>\n</table>\n</div>"
     },
     "metadata": {},
     "execution_count": 37
    }
   ],
   "source": [
    "df.sort_values(by=\"B\")"
   ]
  },
  {
   "cell_type": "code",
   "execution_count": 38,
   "metadata": {},
   "outputs": [
    {
     "output_type": "execute_result",
     "data": {
      "text/plain": [
       "2013-01-01   -0.660403\n",
       "2013-01-02   -1.406033\n",
       "2013-01-03    1.258945\n",
       "2013-01-04   -0.032442\n",
       "2013-01-05   -0.046180\n",
       "2013-01-06   -0.214075\n",
       "Freq: D, Name: A, dtype: float64"
      ]
     },
     "metadata": {},
     "execution_count": 38
    }
   ],
   "source": [
    "df[\"A\"]"
   ]
  },
  {
   "cell_type": "code",
   "execution_count": 39,
   "metadata": {},
   "outputs": [
    {
     "output_type": "execute_result",
     "data": {
      "text/plain": [
       "                   A         B         C         D\n",
       "2013-01-01 -0.660403 -0.104224  0.385185  0.738500\n",
       "2013-01-02 -1.406033 -0.811804  0.134133 -1.498537\n",
       "2013-01-03  1.258945 -1.041408  0.507907 -0.036210"
      ],
      "text/html": "<div>\n<style scoped>\n    .dataframe tbody tr th:only-of-type {\n        vertical-align: middle;\n    }\n\n    .dataframe tbody tr th {\n        vertical-align: top;\n    }\n\n    .dataframe thead th {\n        text-align: right;\n    }\n</style>\n<table border=\"1\" class=\"dataframe\">\n  <thead>\n    <tr style=\"text-align: right;\">\n      <th></th>\n      <th>A</th>\n      <th>B</th>\n      <th>C</th>\n      <th>D</th>\n    </tr>\n  </thead>\n  <tbody>\n    <tr>\n      <td>2013-01-01</td>\n      <td>-0.660403</td>\n      <td>-0.104224</td>\n      <td>0.385185</td>\n      <td>0.738500</td>\n    </tr>\n    <tr>\n      <td>2013-01-02</td>\n      <td>-1.406033</td>\n      <td>-0.811804</td>\n      <td>0.134133</td>\n      <td>-1.498537</td>\n    </tr>\n    <tr>\n      <td>2013-01-03</td>\n      <td>1.258945</td>\n      <td>-1.041408</td>\n      <td>0.507907</td>\n      <td>-0.036210</td>\n    </tr>\n  </tbody>\n</table>\n</div>"
     },
     "metadata": {},
     "execution_count": 39
    }
   ],
   "source": [
    "df[0:3]"
   ]
  },
  {
   "cell_type": "code",
   "execution_count": 40,
   "metadata": {},
   "outputs": [
    {
     "output_type": "execute_result",
     "data": {
      "text/plain": [
       "                   A         B         C         D\n",
       "2013-01-02 -1.406033 -0.811804  0.134133 -1.498537\n",
       "2013-01-03  1.258945 -1.041408  0.507907 -0.036210\n",
       "2013-01-04 -0.032442  0.269865 -0.835087 -0.214461"
      ],
      "text/html": "<div>\n<style scoped>\n    .dataframe tbody tr th:only-of-type {\n        vertical-align: middle;\n    }\n\n    .dataframe tbody tr th {\n        vertical-align: top;\n    }\n\n    .dataframe thead th {\n        text-align: right;\n    }\n</style>\n<table border=\"1\" class=\"dataframe\">\n  <thead>\n    <tr style=\"text-align: right;\">\n      <th></th>\n      <th>A</th>\n      <th>B</th>\n      <th>C</th>\n      <th>D</th>\n    </tr>\n  </thead>\n  <tbody>\n    <tr>\n      <td>2013-01-02</td>\n      <td>-1.406033</td>\n      <td>-0.811804</td>\n      <td>0.134133</td>\n      <td>-1.498537</td>\n    </tr>\n    <tr>\n      <td>2013-01-03</td>\n      <td>1.258945</td>\n      <td>-1.041408</td>\n      <td>0.507907</td>\n      <td>-0.036210</td>\n    </tr>\n    <tr>\n      <td>2013-01-04</td>\n      <td>-0.032442</td>\n      <td>0.269865</td>\n      <td>-0.835087</td>\n      <td>-0.214461</td>\n    </tr>\n  </tbody>\n</table>\n</div>"
     },
     "metadata": {},
     "execution_count": 40
    }
   ],
   "source": [
    "df[\"20130102\":\"20130104\"]"
   ]
  },
  {
   "cell_type": "code",
   "execution_count": 41,
   "metadata": {},
   "outputs": [
    {
     "output_type": "execute_result",
     "data": {
      "text/plain": [
       "A   -0.660403\n",
       "B   -0.104224\n",
       "C    0.385185\n",
       "D    0.738500\n",
       "Name: 2013-01-01 00:00:00, dtype: float64"
      ]
     },
     "metadata": {},
     "execution_count": 41
    }
   ],
   "source": [
    "df.loc[dates[0]]"
   ]
  },
  {
   "cell_type": "code",
   "execution_count": 42,
   "metadata": {},
   "outputs": [
    {
     "output_type": "execute_result",
     "data": {
      "text/plain": [
       "                   A         B\n",
       "2013-01-01 -0.660403 -0.104224\n",
       "2013-01-02 -1.406033 -0.811804\n",
       "2013-01-03  1.258945 -1.041408\n",
       "2013-01-04 -0.032442  0.269865\n",
       "2013-01-05 -0.046180 -1.534910\n",
       "2013-01-06 -0.214075  1.485695"
      ],
      "text/html": "<div>\n<style scoped>\n    .dataframe tbody tr th:only-of-type {\n        vertical-align: middle;\n    }\n\n    .dataframe tbody tr th {\n        vertical-align: top;\n    }\n\n    .dataframe thead th {\n        text-align: right;\n    }\n</style>\n<table border=\"1\" class=\"dataframe\">\n  <thead>\n    <tr style=\"text-align: right;\">\n      <th></th>\n      <th>A</th>\n      <th>B</th>\n    </tr>\n  </thead>\n  <tbody>\n    <tr>\n      <td>2013-01-01</td>\n      <td>-0.660403</td>\n      <td>-0.104224</td>\n    </tr>\n    <tr>\n      <td>2013-01-02</td>\n      <td>-1.406033</td>\n      <td>-0.811804</td>\n    </tr>\n    <tr>\n      <td>2013-01-03</td>\n      <td>1.258945</td>\n      <td>-1.041408</td>\n    </tr>\n    <tr>\n      <td>2013-01-04</td>\n      <td>-0.032442</td>\n      <td>0.269865</td>\n    </tr>\n    <tr>\n      <td>2013-01-05</td>\n      <td>-0.046180</td>\n      <td>-1.534910</td>\n    </tr>\n    <tr>\n      <td>2013-01-06</td>\n      <td>-0.214075</td>\n      <td>1.485695</td>\n    </tr>\n  </tbody>\n</table>\n</div>"
     },
     "metadata": {},
     "execution_count": 42
    }
   ],
   "source": [
    "df.loc[:,[\"A\",\"B\"]]"
   ]
  },
  {
   "cell_type": "code",
   "execution_count": 43,
   "metadata": {},
   "outputs": [
    {
     "output_type": "execute_result",
     "data": {
      "text/plain": [
       "                   A         B\n",
       "2013-01-02 -1.406033 -0.811804\n",
       "2013-01-03  1.258945 -1.041408\n",
       "2013-01-04 -0.032442  0.269865"
      ],
      "text/html": "<div>\n<style scoped>\n    .dataframe tbody tr th:only-of-type {\n        vertical-align: middle;\n    }\n\n    .dataframe tbody tr th {\n        vertical-align: top;\n    }\n\n    .dataframe thead th {\n        text-align: right;\n    }\n</style>\n<table border=\"1\" class=\"dataframe\">\n  <thead>\n    <tr style=\"text-align: right;\">\n      <th></th>\n      <th>A</th>\n      <th>B</th>\n    </tr>\n  </thead>\n  <tbody>\n    <tr>\n      <td>2013-01-02</td>\n      <td>-1.406033</td>\n      <td>-0.811804</td>\n    </tr>\n    <tr>\n      <td>2013-01-03</td>\n      <td>1.258945</td>\n      <td>-1.041408</td>\n    </tr>\n    <tr>\n      <td>2013-01-04</td>\n      <td>-0.032442</td>\n      <td>0.269865</td>\n    </tr>\n  </tbody>\n</table>\n</div>"
     },
     "metadata": {},
     "execution_count": 43
    }
   ],
   "source": [
    "df.loc[\"20130102\":\"20130104\",[\"A\",\"B\"]]"
   ]
  },
  {
   "cell_type": "code",
   "execution_count": 44,
   "metadata": {},
   "outputs": [
    {
     "output_type": "execute_result",
     "data": {
      "text/plain": [
       "A   -1.406033\n",
       "B   -0.811804\n",
       "Name: 2013-01-02 00:00:00, dtype: float64"
      ]
     },
     "metadata": {},
     "execution_count": 44
    }
   ],
   "source": [
    "df.loc[\"20130102\", [\"A\", \"B\"]]"
   ]
  },
  {
   "cell_type": "code",
   "execution_count": 45,
   "metadata": {},
   "outputs": [
    {
     "output_type": "execute_result",
     "data": {
      "text/plain": [
       "-0.6604032312326896"
      ]
     },
     "metadata": {},
     "execution_count": 45
    }
   ],
   "source": [
    "df.loc[dates[0], \"A\"]"
   ]
  },
  {
   "cell_type": "code",
   "execution_count": 46,
   "metadata": {},
   "outputs": [
    {
     "output_type": "execute_result",
     "data": {
      "text/plain": [
       "-0.6604032312326896"
      ]
     },
     "metadata": {},
     "execution_count": 46
    }
   ],
   "source": [
    "df.at[dates[0], \"A\"]"
   ]
  },
  {
   "cell_type": "code",
   "execution_count": 47,
   "metadata": {},
   "outputs": [
    {
     "output_type": "execute_result",
     "data": {
      "text/plain": [
       "A   -0.032442\n",
       "B    0.269865\n",
       "C   -0.835087\n",
       "D   -0.214461\n",
       "Name: 2013-01-04 00:00:00, dtype: float64"
      ]
     },
     "metadata": {},
     "execution_count": 47
    }
   ],
   "source": [
    "df.iloc[3]"
   ]
  },
  {
   "cell_type": "code",
   "execution_count": 48,
   "metadata": {},
   "outputs": [
    {
     "output_type": "execute_result",
     "data": {
      "text/plain": [
       "                   A         B\n",
       "2013-01-04 -0.032442  0.269865\n",
       "2013-01-05 -0.046180 -1.534910"
      ],
      "text/html": "<div>\n<style scoped>\n    .dataframe tbody tr th:only-of-type {\n        vertical-align: middle;\n    }\n\n    .dataframe tbody tr th {\n        vertical-align: top;\n    }\n\n    .dataframe thead th {\n        text-align: right;\n    }\n</style>\n<table border=\"1\" class=\"dataframe\">\n  <thead>\n    <tr style=\"text-align: right;\">\n      <th></th>\n      <th>A</th>\n      <th>B</th>\n    </tr>\n  </thead>\n  <tbody>\n    <tr>\n      <td>2013-01-04</td>\n      <td>-0.032442</td>\n      <td>0.269865</td>\n    </tr>\n    <tr>\n      <td>2013-01-05</td>\n      <td>-0.046180</td>\n      <td>-1.534910</td>\n    </tr>\n  </tbody>\n</table>\n</div>"
     },
     "metadata": {},
     "execution_count": 48
    }
   ],
   "source": [
    "df.iloc[3:5, 0:2]"
   ]
  },
  {
   "cell_type": "code",
   "execution_count": 49,
   "metadata": {},
   "outputs": [
    {
     "output_type": "execute_result",
     "data": {
      "text/plain": [
       "                   A         C\n",
       "2013-01-02 -1.406033  0.134133\n",
       "2013-01-03  1.258945  0.507907\n",
       "2013-01-05 -0.046180 -0.343570"
      ],
      "text/html": "<div>\n<style scoped>\n    .dataframe tbody tr th:only-of-type {\n        vertical-align: middle;\n    }\n\n    .dataframe tbody tr th {\n        vertical-align: top;\n    }\n\n    .dataframe thead th {\n        text-align: right;\n    }\n</style>\n<table border=\"1\" class=\"dataframe\">\n  <thead>\n    <tr style=\"text-align: right;\">\n      <th></th>\n      <th>A</th>\n      <th>C</th>\n    </tr>\n  </thead>\n  <tbody>\n    <tr>\n      <td>2013-01-02</td>\n      <td>-1.406033</td>\n      <td>0.134133</td>\n    </tr>\n    <tr>\n      <td>2013-01-03</td>\n      <td>1.258945</td>\n      <td>0.507907</td>\n    </tr>\n    <tr>\n      <td>2013-01-05</td>\n      <td>-0.046180</td>\n      <td>-0.343570</td>\n    </tr>\n  </tbody>\n</table>\n</div>"
     },
     "metadata": {},
     "execution_count": 49
    }
   ],
   "source": [
    "df.iloc[[1, 2, 4], [0, 2]]"
   ]
  },
  {
   "cell_type": "code",
   "execution_count": 50,
   "metadata": {},
   "outputs": [
    {
     "output_type": "execute_result",
     "data": {
      "text/plain": [
       "                   A         B         C         D\n",
       "2013-01-02 -1.406033 -0.811804  0.134133 -1.498537\n",
       "2013-01-03  1.258945 -1.041408  0.507907 -0.036210"
      ],
      "text/html": "<div>\n<style scoped>\n    .dataframe tbody tr th:only-of-type {\n        vertical-align: middle;\n    }\n\n    .dataframe tbody tr th {\n        vertical-align: top;\n    }\n\n    .dataframe thead th {\n        text-align: right;\n    }\n</style>\n<table border=\"1\" class=\"dataframe\">\n  <thead>\n    <tr style=\"text-align: right;\">\n      <th></th>\n      <th>A</th>\n      <th>B</th>\n      <th>C</th>\n      <th>D</th>\n    </tr>\n  </thead>\n  <tbody>\n    <tr>\n      <td>2013-01-02</td>\n      <td>-1.406033</td>\n      <td>-0.811804</td>\n      <td>0.134133</td>\n      <td>-1.498537</td>\n    </tr>\n    <tr>\n      <td>2013-01-03</td>\n      <td>1.258945</td>\n      <td>-1.041408</td>\n      <td>0.507907</td>\n      <td>-0.036210</td>\n    </tr>\n  </tbody>\n</table>\n</div>"
     },
     "metadata": {},
     "execution_count": 50
    }
   ],
   "source": [
    "df.iloc[1:3, :]"
   ]
  },
  {
   "cell_type": "code",
   "execution_count": 51,
   "metadata": {},
   "outputs": [
    {
     "output_type": "execute_result",
     "data": {
      "text/plain": [
       "                   B         C\n",
       "2013-01-01 -0.104224  0.385185\n",
       "2013-01-02 -0.811804  0.134133\n",
       "2013-01-03 -1.041408  0.507907\n",
       "2013-01-04  0.269865 -0.835087\n",
       "2013-01-05 -1.534910 -0.343570\n",
       "2013-01-06  1.485695  0.196018"
      ],
      "text/html": "<div>\n<style scoped>\n    .dataframe tbody tr th:only-of-type {\n        vertical-align: middle;\n    }\n\n    .dataframe tbody tr th {\n        vertical-align: top;\n    }\n\n    .dataframe thead th {\n        text-align: right;\n    }\n</style>\n<table border=\"1\" class=\"dataframe\">\n  <thead>\n    <tr style=\"text-align: right;\">\n      <th></th>\n      <th>B</th>\n      <th>C</th>\n    </tr>\n  </thead>\n  <tbody>\n    <tr>\n      <td>2013-01-01</td>\n      <td>-0.104224</td>\n      <td>0.385185</td>\n    </tr>\n    <tr>\n      <td>2013-01-02</td>\n      <td>-0.811804</td>\n      <td>0.134133</td>\n    </tr>\n    <tr>\n      <td>2013-01-03</td>\n      <td>-1.041408</td>\n      <td>0.507907</td>\n    </tr>\n    <tr>\n      <td>2013-01-04</td>\n      <td>0.269865</td>\n      <td>-0.835087</td>\n    </tr>\n    <tr>\n      <td>2013-01-05</td>\n      <td>-1.534910</td>\n      <td>-0.343570</td>\n    </tr>\n    <tr>\n      <td>2013-01-06</td>\n      <td>1.485695</td>\n      <td>0.196018</td>\n    </tr>\n  </tbody>\n</table>\n</div>"
     },
     "metadata": {},
     "execution_count": 51
    }
   ],
   "source": [
    "df.iloc[:, 1:3]"
   ]
  },
  {
   "cell_type": "code",
   "execution_count": 52,
   "metadata": {},
   "outputs": [
    {
     "output_type": "execute_result",
     "data": {
      "text/plain": [
       "-0.8118037067177647"
      ]
     },
     "metadata": {},
     "execution_count": 52
    }
   ],
   "source": [
    "df.iloc[1, 1]"
   ]
  },
  {
   "cell_type": "code",
   "execution_count": 53,
   "metadata": {},
   "outputs": [
    {
     "output_type": "execute_result",
     "data": {
      "text/plain": [
       "-0.8118037067177647"
      ]
     },
     "metadata": {},
     "execution_count": 53
    }
   ],
   "source": [
    "df.iat[1, 1]"
   ]
  },
  {
   "cell_type": "code",
   "execution_count": 54,
   "metadata": {},
   "outputs": [
    {
     "output_type": "execute_result",
     "data": {
      "text/plain": [
       "                   A         B         C        D\n",
       "2013-01-03  1.258945 -1.041408  0.507907 -0.03621"
      ],
      "text/html": "<div>\n<style scoped>\n    .dataframe tbody tr th:only-of-type {\n        vertical-align: middle;\n    }\n\n    .dataframe tbody tr th {\n        vertical-align: top;\n    }\n\n    .dataframe thead th {\n        text-align: right;\n    }\n</style>\n<table border=\"1\" class=\"dataframe\">\n  <thead>\n    <tr style=\"text-align: right;\">\n      <th></th>\n      <th>A</th>\n      <th>B</th>\n      <th>C</th>\n      <th>D</th>\n    </tr>\n  </thead>\n  <tbody>\n    <tr>\n      <td>2013-01-03</td>\n      <td>1.258945</td>\n      <td>-1.041408</td>\n      <td>0.507907</td>\n      <td>-0.03621</td>\n    </tr>\n  </tbody>\n</table>\n</div>"
     },
     "metadata": {},
     "execution_count": 54
    }
   ],
   "source": [
    "df[df[\"A\"] > 0]"
   ]
  },
  {
   "cell_type": "code",
   "execution_count": 55,
   "metadata": {},
   "outputs": [
    {
     "output_type": "execute_result",
     "data": {
      "text/plain": [
       "                   A         B         C         D\n",
       "2013-01-01       NaN       NaN  0.385185  0.738500\n",
       "2013-01-02       NaN       NaN  0.134133       NaN\n",
       "2013-01-03  1.258945       NaN  0.507907       NaN\n",
       "2013-01-04       NaN  0.269865       NaN       NaN\n",
       "2013-01-05       NaN       NaN       NaN  0.003510\n",
       "2013-01-06       NaN  1.485695  0.196018  1.871626"
      ],
      "text/html": "<div>\n<style scoped>\n    .dataframe tbody tr th:only-of-type {\n        vertical-align: middle;\n    }\n\n    .dataframe tbody tr th {\n        vertical-align: top;\n    }\n\n    .dataframe thead th {\n        text-align: right;\n    }\n</style>\n<table border=\"1\" class=\"dataframe\">\n  <thead>\n    <tr style=\"text-align: right;\">\n      <th></th>\n      <th>A</th>\n      <th>B</th>\n      <th>C</th>\n      <th>D</th>\n    </tr>\n  </thead>\n  <tbody>\n    <tr>\n      <td>2013-01-01</td>\n      <td>NaN</td>\n      <td>NaN</td>\n      <td>0.385185</td>\n      <td>0.738500</td>\n    </tr>\n    <tr>\n      <td>2013-01-02</td>\n      <td>NaN</td>\n      <td>NaN</td>\n      <td>0.134133</td>\n      <td>NaN</td>\n    </tr>\n    <tr>\n      <td>2013-01-03</td>\n      <td>1.258945</td>\n      <td>NaN</td>\n      <td>0.507907</td>\n      <td>NaN</td>\n    </tr>\n    <tr>\n      <td>2013-01-04</td>\n      <td>NaN</td>\n      <td>0.269865</td>\n      <td>NaN</td>\n      <td>NaN</td>\n    </tr>\n    <tr>\n      <td>2013-01-05</td>\n      <td>NaN</td>\n      <td>NaN</td>\n      <td>NaN</td>\n      <td>0.003510</td>\n    </tr>\n    <tr>\n      <td>2013-01-06</td>\n      <td>NaN</td>\n      <td>1.485695</td>\n      <td>0.196018</td>\n      <td>1.871626</td>\n    </tr>\n  </tbody>\n</table>\n</div>"
     },
     "metadata": {},
     "execution_count": 55
    }
   ],
   "source": [
    "df[df > 0]"
   ]
  },
  {
   "cell_type": "code",
   "execution_count": 57,
   "metadata": {},
   "outputs": [],
   "source": [
    "df2 = df.copy()"
   ]
  },
  {
   "cell_type": "code",
   "execution_count": 58,
   "metadata": {},
   "outputs": [],
   "source": [
    "df2[\"E\"] = [\"one\", \"one\", \"two\", \"three\", \"four\", \"three\" ]"
   ]
  },
  {
   "cell_type": "code",
   "execution_count": 59,
   "metadata": {},
   "outputs": [
    {
     "output_type": "execute_result",
     "data": {
      "text/plain": [
       "                   A         B         C         D      E\n",
       "2013-01-01 -0.660403 -0.104224  0.385185  0.738500    one\n",
       "2013-01-02 -1.406033 -0.811804  0.134133 -1.498537    one\n",
       "2013-01-03  1.258945 -1.041408  0.507907 -0.036210    two\n",
       "2013-01-04 -0.032442  0.269865 -0.835087 -0.214461  three\n",
       "2013-01-05 -0.046180 -1.534910 -0.343570  0.003510   four\n",
       "2013-01-06 -0.214075  1.485695  0.196018  1.871626  three"
      ],
      "text/html": "<div>\n<style scoped>\n    .dataframe tbody tr th:only-of-type {\n        vertical-align: middle;\n    }\n\n    .dataframe tbody tr th {\n        vertical-align: top;\n    }\n\n    .dataframe thead th {\n        text-align: right;\n    }\n</style>\n<table border=\"1\" class=\"dataframe\">\n  <thead>\n    <tr style=\"text-align: right;\">\n      <th></th>\n      <th>A</th>\n      <th>B</th>\n      <th>C</th>\n      <th>D</th>\n      <th>E</th>\n    </tr>\n  </thead>\n  <tbody>\n    <tr>\n      <td>2013-01-01</td>\n      <td>-0.660403</td>\n      <td>-0.104224</td>\n      <td>0.385185</td>\n      <td>0.738500</td>\n      <td>one</td>\n    </tr>\n    <tr>\n      <td>2013-01-02</td>\n      <td>-1.406033</td>\n      <td>-0.811804</td>\n      <td>0.134133</td>\n      <td>-1.498537</td>\n      <td>one</td>\n    </tr>\n    <tr>\n      <td>2013-01-03</td>\n      <td>1.258945</td>\n      <td>-1.041408</td>\n      <td>0.507907</td>\n      <td>-0.036210</td>\n      <td>two</td>\n    </tr>\n    <tr>\n      <td>2013-01-04</td>\n      <td>-0.032442</td>\n      <td>0.269865</td>\n      <td>-0.835087</td>\n      <td>-0.214461</td>\n      <td>three</td>\n    </tr>\n    <tr>\n      <td>2013-01-05</td>\n      <td>-0.046180</td>\n      <td>-1.534910</td>\n      <td>-0.343570</td>\n      <td>0.003510</td>\n      <td>four</td>\n    </tr>\n    <tr>\n      <td>2013-01-06</td>\n      <td>-0.214075</td>\n      <td>1.485695</td>\n      <td>0.196018</td>\n      <td>1.871626</td>\n      <td>three</td>\n    </tr>\n  </tbody>\n</table>\n</div>"
     },
     "metadata": {},
     "execution_count": 59
    }
   ],
   "source": [
    "df2"
   ]
  },
  {
   "cell_type": "code",
   "execution_count": 60,
   "metadata": {},
   "outputs": [
    {
     "output_type": "execute_result",
     "data": {
      "text/plain": [
       "                   A         B         C        D     E\n",
       "2013-01-03  1.258945 -1.041408  0.507907 -0.03621   two\n",
       "2013-01-05 -0.046180 -1.534910 -0.343570  0.00351  four"
      ],
      "text/html": "<div>\n<style scoped>\n    .dataframe tbody tr th:only-of-type {\n        vertical-align: middle;\n    }\n\n    .dataframe tbody tr th {\n        vertical-align: top;\n    }\n\n    .dataframe thead th {\n        text-align: right;\n    }\n</style>\n<table border=\"1\" class=\"dataframe\">\n  <thead>\n    <tr style=\"text-align: right;\">\n      <th></th>\n      <th>A</th>\n      <th>B</th>\n      <th>C</th>\n      <th>D</th>\n      <th>E</th>\n    </tr>\n  </thead>\n  <tbody>\n    <tr>\n      <td>2013-01-03</td>\n      <td>1.258945</td>\n      <td>-1.041408</td>\n      <td>0.507907</td>\n      <td>-0.03621</td>\n      <td>two</td>\n    </tr>\n    <tr>\n      <td>2013-01-05</td>\n      <td>-0.046180</td>\n      <td>-1.534910</td>\n      <td>-0.343570</td>\n      <td>0.00351</td>\n      <td>four</td>\n    </tr>\n  </tbody>\n</table>\n</div>"
     },
     "metadata": {},
     "execution_count": 60
    }
   ],
   "source": [
    "df2[df2[\"E\"].isin([\"two\", \"four\"])]"
   ]
  },
  {
   "cell_type": "code",
   "execution_count": 61,
   "metadata": {},
   "outputs": [],
   "source": [
    "s1 = pd.Series([1, 2, 3, 4, 5, 6], index=pd.date_range(\"20130102\", periods=6))"
   ]
  },
  {
   "cell_type": "code",
   "execution_count": 62,
   "metadata": {},
   "outputs": [
    {
     "output_type": "execute_result",
     "data": {
      "text/plain": [
       "2013-01-02    1\n",
       "2013-01-03    2\n",
       "2013-01-04    3\n",
       "2013-01-05    4\n",
       "2013-01-06    5\n",
       "2013-01-07    6\n",
       "Freq: D, dtype: int64"
      ]
     },
     "metadata": {},
     "execution_count": 62
    }
   ],
   "source": [
    "s1"
   ]
  },
  {
   "cell_type": "code",
   "execution_count": 63,
   "metadata": {},
   "outputs": [],
   "source": [
    "df[\"F\"] = s1"
   ]
  },
  {
   "cell_type": "code",
   "execution_count": 64,
   "metadata": {},
   "outputs": [],
   "source": [
    "df.at[dates[0], \"A\"] = 0"
   ]
  },
  {
   "cell_type": "code",
   "execution_count": 65,
   "metadata": {},
   "outputs": [],
   "source": [
    "df.iat[0, 1] = 0"
   ]
  },
  {
   "cell_type": "code",
   "execution_count": 66,
   "metadata": {},
   "outputs": [],
   "source": [
    "df.loc[:, \"D\"] = np.array([5] * len(df))"
   ]
  },
  {
   "cell_type": "code",
   "execution_count": 67,
   "metadata": {},
   "outputs": [
    {
     "output_type": "execute_result",
     "data": {
      "text/plain": [
       "                   A         B         C  D    F\n",
       "2013-01-01  0.000000  0.000000  0.385185  5  NaN\n",
       "2013-01-02 -1.406033 -0.811804  0.134133  5  1.0\n",
       "2013-01-03  1.258945 -1.041408  0.507907  5  2.0\n",
       "2013-01-04 -0.032442  0.269865 -0.835087  5  3.0\n",
       "2013-01-05 -0.046180 -1.534910 -0.343570  5  4.0\n",
       "2013-01-06 -0.214075  1.485695  0.196018  5  5.0"
      ],
      "text/html": "<div>\n<style scoped>\n    .dataframe tbody tr th:only-of-type {\n        vertical-align: middle;\n    }\n\n    .dataframe tbody tr th {\n        vertical-align: top;\n    }\n\n    .dataframe thead th {\n        text-align: right;\n    }\n</style>\n<table border=\"1\" class=\"dataframe\">\n  <thead>\n    <tr style=\"text-align: right;\">\n      <th></th>\n      <th>A</th>\n      <th>B</th>\n      <th>C</th>\n      <th>D</th>\n      <th>F</th>\n    </tr>\n  </thead>\n  <tbody>\n    <tr>\n      <td>2013-01-01</td>\n      <td>0.000000</td>\n      <td>0.000000</td>\n      <td>0.385185</td>\n      <td>5</td>\n      <td>NaN</td>\n    </tr>\n    <tr>\n      <td>2013-01-02</td>\n      <td>-1.406033</td>\n      <td>-0.811804</td>\n      <td>0.134133</td>\n      <td>5</td>\n      <td>1.0</td>\n    </tr>\n    <tr>\n      <td>2013-01-03</td>\n      <td>1.258945</td>\n      <td>-1.041408</td>\n      <td>0.507907</td>\n      <td>5</td>\n      <td>2.0</td>\n    </tr>\n    <tr>\n      <td>2013-01-04</td>\n      <td>-0.032442</td>\n      <td>0.269865</td>\n      <td>-0.835087</td>\n      <td>5</td>\n      <td>3.0</td>\n    </tr>\n    <tr>\n      <td>2013-01-05</td>\n      <td>-0.046180</td>\n      <td>-1.534910</td>\n      <td>-0.343570</td>\n      <td>5</td>\n      <td>4.0</td>\n    </tr>\n    <tr>\n      <td>2013-01-06</td>\n      <td>-0.214075</td>\n      <td>1.485695</td>\n      <td>0.196018</td>\n      <td>5</td>\n      <td>5.0</td>\n    </tr>\n  </tbody>\n</table>\n</div>"
     },
     "metadata": {},
     "execution_count": 67
    }
   ],
   "source": [
    "df"
   ]
  },
  {
   "cell_type": "code",
   "execution_count": 68,
   "metadata": {},
   "outputs": [],
   "source": [
    "df2 = df.copy()"
   ]
  },
  {
   "cell_type": "code",
   "execution_count": 69,
   "metadata": {},
   "outputs": [],
   "source": [
    "df2[df2 > 0] = -df2"
   ]
  },
  {
   "cell_type": "code",
   "execution_count": 70,
   "metadata": {},
   "outputs": [
    {
     "output_type": "execute_result",
     "data": {
      "text/plain": [
       "                   A         B         C  D    F\n",
       "2013-01-01  0.000000  0.000000 -0.385185 -5  NaN\n",
       "2013-01-02 -1.406033 -0.811804 -0.134133 -5 -1.0\n",
       "2013-01-03 -1.258945 -1.041408 -0.507907 -5 -2.0\n",
       "2013-01-04 -0.032442 -0.269865 -0.835087 -5 -3.0\n",
       "2013-01-05 -0.046180 -1.534910 -0.343570 -5 -4.0\n",
       "2013-01-06 -0.214075 -1.485695 -0.196018 -5 -5.0"
      ],
      "text/html": "<div>\n<style scoped>\n    .dataframe tbody tr th:only-of-type {\n        vertical-align: middle;\n    }\n\n    .dataframe tbody tr th {\n        vertical-align: top;\n    }\n\n    .dataframe thead th {\n        text-align: right;\n    }\n</style>\n<table border=\"1\" class=\"dataframe\">\n  <thead>\n    <tr style=\"text-align: right;\">\n      <th></th>\n      <th>A</th>\n      <th>B</th>\n      <th>C</th>\n      <th>D</th>\n      <th>F</th>\n    </tr>\n  </thead>\n  <tbody>\n    <tr>\n      <td>2013-01-01</td>\n      <td>0.000000</td>\n      <td>0.000000</td>\n      <td>-0.385185</td>\n      <td>-5</td>\n      <td>NaN</td>\n    </tr>\n    <tr>\n      <td>2013-01-02</td>\n      <td>-1.406033</td>\n      <td>-0.811804</td>\n      <td>-0.134133</td>\n      <td>-5</td>\n      <td>-1.0</td>\n    </tr>\n    <tr>\n      <td>2013-01-03</td>\n      <td>-1.258945</td>\n      <td>-1.041408</td>\n      <td>-0.507907</td>\n      <td>-5</td>\n      <td>-2.0</td>\n    </tr>\n    <tr>\n      <td>2013-01-04</td>\n      <td>-0.032442</td>\n      <td>-0.269865</td>\n      <td>-0.835087</td>\n      <td>-5</td>\n      <td>-3.0</td>\n    </tr>\n    <tr>\n      <td>2013-01-05</td>\n      <td>-0.046180</td>\n      <td>-1.534910</td>\n      <td>-0.343570</td>\n      <td>-5</td>\n      <td>-4.0</td>\n    </tr>\n    <tr>\n      <td>2013-01-06</td>\n      <td>-0.214075</td>\n      <td>-1.485695</td>\n      <td>-0.196018</td>\n      <td>-5</td>\n      <td>-5.0</td>\n    </tr>\n  </tbody>\n</table>\n</div>"
     },
     "metadata": {},
     "execution_count": 70
    }
   ],
   "source": [
    "df2"
   ]
  },
  {
   "cell_type": "code",
   "execution_count": 71,
   "metadata": {},
   "outputs": [],
   "source": [
    "df1 = df.reindex(index=dates[0:4], columns=list(df.columns) + [\"E\"])"
   ]
  },
  {
   "cell_type": "code",
   "execution_count": 72,
   "metadata": {},
   "outputs": [],
   "source": [
    "df1.loc[dates[0] : dates[1], \"E\"] = 1"
   ]
  },
  {
   "cell_type": "code",
   "execution_count": 73,
   "metadata": {},
   "outputs": [
    {
     "output_type": "execute_result",
     "data": {
      "text/plain": [
       "                   A         B         C  D    F    E\n",
       "2013-01-01  0.000000  0.000000  0.385185  5  NaN  1.0\n",
       "2013-01-02 -1.406033 -0.811804  0.134133  5  1.0  1.0\n",
       "2013-01-03  1.258945 -1.041408  0.507907  5  2.0  NaN\n",
       "2013-01-04 -0.032442  0.269865 -0.835087  5  3.0  NaN"
      ],
      "text/html": "<div>\n<style scoped>\n    .dataframe tbody tr th:only-of-type {\n        vertical-align: middle;\n    }\n\n    .dataframe tbody tr th {\n        vertical-align: top;\n    }\n\n    .dataframe thead th {\n        text-align: right;\n    }\n</style>\n<table border=\"1\" class=\"dataframe\">\n  <thead>\n    <tr style=\"text-align: right;\">\n      <th></th>\n      <th>A</th>\n      <th>B</th>\n      <th>C</th>\n      <th>D</th>\n      <th>F</th>\n      <th>E</th>\n    </tr>\n  </thead>\n  <tbody>\n    <tr>\n      <td>2013-01-01</td>\n      <td>0.000000</td>\n      <td>0.000000</td>\n      <td>0.385185</td>\n      <td>5</td>\n      <td>NaN</td>\n      <td>1.0</td>\n    </tr>\n    <tr>\n      <td>2013-01-02</td>\n      <td>-1.406033</td>\n      <td>-0.811804</td>\n      <td>0.134133</td>\n      <td>5</td>\n      <td>1.0</td>\n      <td>1.0</td>\n    </tr>\n    <tr>\n      <td>2013-01-03</td>\n      <td>1.258945</td>\n      <td>-1.041408</td>\n      <td>0.507907</td>\n      <td>5</td>\n      <td>2.0</td>\n      <td>NaN</td>\n    </tr>\n    <tr>\n      <td>2013-01-04</td>\n      <td>-0.032442</td>\n      <td>0.269865</td>\n      <td>-0.835087</td>\n      <td>5</td>\n      <td>3.0</td>\n      <td>NaN</td>\n    </tr>\n  </tbody>\n</table>\n</div>"
     },
     "metadata": {},
     "execution_count": 73
    }
   ],
   "source": [
    "df1"
   ]
  },
  {
   "cell_type": "code",
   "execution_count": 74,
   "metadata": {},
   "outputs": [
    {
     "output_type": "execute_result",
     "data": {
      "text/plain": [
       "                   A         B         C  D    F    E\n",
       "2013-01-02 -1.406033 -0.811804  0.134133  5  1.0  1.0"
      ],
      "text/html": "<div>\n<style scoped>\n    .dataframe tbody tr th:only-of-type {\n        vertical-align: middle;\n    }\n\n    .dataframe tbody tr th {\n        vertical-align: top;\n    }\n\n    .dataframe thead th {\n        text-align: right;\n    }\n</style>\n<table border=\"1\" class=\"dataframe\">\n  <thead>\n    <tr style=\"text-align: right;\">\n      <th></th>\n      <th>A</th>\n      <th>B</th>\n      <th>C</th>\n      <th>D</th>\n      <th>F</th>\n      <th>E</th>\n    </tr>\n  </thead>\n  <tbody>\n    <tr>\n      <td>2013-01-02</td>\n      <td>-1.406033</td>\n      <td>-0.811804</td>\n      <td>0.134133</td>\n      <td>5</td>\n      <td>1.0</td>\n      <td>1.0</td>\n    </tr>\n  </tbody>\n</table>\n</div>"
     },
     "metadata": {},
     "execution_count": 74
    }
   ],
   "source": [
    "df1.dropna(how=\"any\")"
   ]
  },
  {
   "cell_type": "code",
   "execution_count": 75,
   "metadata": {},
   "outputs": [
    {
     "output_type": "execute_result",
     "data": {
      "text/plain": [
       "                   A         B         C  D    F    E\n",
       "2013-01-01  0.000000  0.000000  0.385185  5  5.0  1.0\n",
       "2013-01-02 -1.406033 -0.811804  0.134133  5  1.0  1.0\n",
       "2013-01-03  1.258945 -1.041408  0.507907  5  2.0  5.0\n",
       "2013-01-04 -0.032442  0.269865 -0.835087  5  3.0  5.0"
      ],
      "text/html": "<div>\n<style scoped>\n    .dataframe tbody tr th:only-of-type {\n        vertical-align: middle;\n    }\n\n    .dataframe tbody tr th {\n        vertical-align: top;\n    }\n\n    .dataframe thead th {\n        text-align: right;\n    }\n</style>\n<table border=\"1\" class=\"dataframe\">\n  <thead>\n    <tr style=\"text-align: right;\">\n      <th></th>\n      <th>A</th>\n      <th>B</th>\n      <th>C</th>\n      <th>D</th>\n      <th>F</th>\n      <th>E</th>\n    </tr>\n  </thead>\n  <tbody>\n    <tr>\n      <td>2013-01-01</td>\n      <td>0.000000</td>\n      <td>0.000000</td>\n      <td>0.385185</td>\n      <td>5</td>\n      <td>5.0</td>\n      <td>1.0</td>\n    </tr>\n    <tr>\n      <td>2013-01-02</td>\n      <td>-1.406033</td>\n      <td>-0.811804</td>\n      <td>0.134133</td>\n      <td>5</td>\n      <td>1.0</td>\n      <td>1.0</td>\n    </tr>\n    <tr>\n      <td>2013-01-03</td>\n      <td>1.258945</td>\n      <td>-1.041408</td>\n      <td>0.507907</td>\n      <td>5</td>\n      <td>2.0</td>\n      <td>5.0</td>\n    </tr>\n    <tr>\n      <td>2013-01-04</td>\n      <td>-0.032442</td>\n      <td>0.269865</td>\n      <td>-0.835087</td>\n      <td>5</td>\n      <td>3.0</td>\n      <td>5.0</td>\n    </tr>\n  </tbody>\n</table>\n</div>"
     },
     "metadata": {},
     "execution_count": 75
    }
   ],
   "source": [
    "df1.fillna(value=5)"
   ]
  },
  {
   "cell_type": "code",
   "execution_count": 76,
   "metadata": {},
   "outputs": [
    {
     "output_type": "execute_result",
     "data": {
      "text/plain": [
       "                A      B      C      D      F      E\n",
       "2013-01-01  False  False  False  False   True  False\n",
       "2013-01-02  False  False  False  False  False  False\n",
       "2013-01-03  False  False  False  False  False   True\n",
       "2013-01-04  False  False  False  False  False   True"
      ],
      "text/html": "<div>\n<style scoped>\n    .dataframe tbody tr th:only-of-type {\n        vertical-align: middle;\n    }\n\n    .dataframe tbody tr th {\n        vertical-align: top;\n    }\n\n    .dataframe thead th {\n        text-align: right;\n    }\n</style>\n<table border=\"1\" class=\"dataframe\">\n  <thead>\n    <tr style=\"text-align: right;\">\n      <th></th>\n      <th>A</th>\n      <th>B</th>\n      <th>C</th>\n      <th>D</th>\n      <th>F</th>\n      <th>E</th>\n    </tr>\n  </thead>\n  <tbody>\n    <tr>\n      <td>2013-01-01</td>\n      <td>False</td>\n      <td>False</td>\n      <td>False</td>\n      <td>False</td>\n      <td>True</td>\n      <td>False</td>\n    </tr>\n    <tr>\n      <td>2013-01-02</td>\n      <td>False</td>\n      <td>False</td>\n      <td>False</td>\n      <td>False</td>\n      <td>False</td>\n      <td>False</td>\n    </tr>\n    <tr>\n      <td>2013-01-03</td>\n      <td>False</td>\n      <td>False</td>\n      <td>False</td>\n      <td>False</td>\n      <td>False</td>\n      <td>True</td>\n    </tr>\n    <tr>\n      <td>2013-01-04</td>\n      <td>False</td>\n      <td>False</td>\n      <td>False</td>\n      <td>False</td>\n      <td>False</td>\n      <td>True</td>\n    </tr>\n  </tbody>\n</table>\n</div>"
     },
     "metadata": {},
     "execution_count": 76
    }
   ],
   "source": [
    "pd.isna(df1)"
   ]
  },
  {
   "cell_type": "code",
   "execution_count": 77,
   "metadata": {},
   "outputs": [
    {
     "output_type": "execute_result",
     "data": {
      "text/plain": [
       "A   -0.073297\n",
       "B   -0.272093\n",
       "C    0.007431\n",
       "D    5.000000\n",
       "F    3.000000\n",
       "dtype: float64"
      ]
     },
     "metadata": {},
     "execution_count": 77
    }
   ],
   "source": [
    "df.mean()"
   ]
  },
  {
   "cell_type": "code",
   "execution_count": 78,
   "metadata": {},
   "outputs": [
    {
     "output_type": "execute_result",
     "data": {
      "text/plain": [
       "2013-01-01    1.346296\n",
       "2013-01-02    0.783259\n",
       "2013-01-03    1.545089\n",
       "2013-01-04    1.480467\n",
       "2013-01-05    1.415068\n",
       "2013-01-06    2.293528\n",
       "Freq: D, dtype: float64"
      ]
     },
     "metadata": {},
     "execution_count": 78
    }
   ],
   "source": [
    "df.mean(1)"
   ]
  },
  {
   "cell_type": "code",
   "execution_count": 79,
   "metadata": {},
   "outputs": [],
   "source": [
    "s = pd.Series([1, 3, 5, np.nan, 6, 8], index=dates).shift(2)"
   ]
  },
  {
   "cell_type": "code",
   "execution_count": 80,
   "metadata": {},
   "outputs": [
    {
     "output_type": "execute_result",
     "data": {
      "text/plain": [
       "2013-01-01    NaN\n",
       "2013-01-02    NaN\n",
       "2013-01-03    1.0\n",
       "2013-01-04    3.0\n",
       "2013-01-05    5.0\n",
       "2013-01-06    NaN\n",
       "Freq: D, dtype: float64"
      ]
     },
     "metadata": {},
     "execution_count": 80
    }
   ],
   "source": [
    "s"
   ]
  },
  {
   "cell_type": "code",
   "execution_count": 81,
   "metadata": {},
   "outputs": [
    {
     "output_type": "execute_result",
     "data": {
      "text/plain": [
       "                   A         B         C    D    F\n",
       "2013-01-01       NaN       NaN       NaN  NaN  NaN\n",
       "2013-01-02       NaN       NaN       NaN  NaN  NaN\n",
       "2013-01-03  0.258945 -2.041408 -0.492093  4.0  1.0\n",
       "2013-01-04 -3.032442 -2.730135 -3.835087  2.0  0.0\n",
       "2013-01-05 -5.046180 -6.534910 -5.343570  0.0 -1.0\n",
       "2013-01-06       NaN       NaN       NaN  NaN  NaN"
      ],
      "text/html": "<div>\n<style scoped>\n    .dataframe tbody tr th:only-of-type {\n        vertical-align: middle;\n    }\n\n    .dataframe tbody tr th {\n        vertical-align: top;\n    }\n\n    .dataframe thead th {\n        text-align: right;\n    }\n</style>\n<table border=\"1\" class=\"dataframe\">\n  <thead>\n    <tr style=\"text-align: right;\">\n      <th></th>\n      <th>A</th>\n      <th>B</th>\n      <th>C</th>\n      <th>D</th>\n      <th>F</th>\n    </tr>\n  </thead>\n  <tbody>\n    <tr>\n      <td>2013-01-01</td>\n      <td>NaN</td>\n      <td>NaN</td>\n      <td>NaN</td>\n      <td>NaN</td>\n      <td>NaN</td>\n    </tr>\n    <tr>\n      <td>2013-01-02</td>\n      <td>NaN</td>\n      <td>NaN</td>\n      <td>NaN</td>\n      <td>NaN</td>\n      <td>NaN</td>\n    </tr>\n    <tr>\n      <td>2013-01-03</td>\n      <td>0.258945</td>\n      <td>-2.041408</td>\n      <td>-0.492093</td>\n      <td>4.0</td>\n      <td>1.0</td>\n    </tr>\n    <tr>\n      <td>2013-01-04</td>\n      <td>-3.032442</td>\n      <td>-2.730135</td>\n      <td>-3.835087</td>\n      <td>2.0</td>\n      <td>0.0</td>\n    </tr>\n    <tr>\n      <td>2013-01-05</td>\n      <td>-5.046180</td>\n      <td>-6.534910</td>\n      <td>-5.343570</td>\n      <td>0.0</td>\n      <td>-1.0</td>\n    </tr>\n    <tr>\n      <td>2013-01-06</td>\n      <td>NaN</td>\n      <td>NaN</td>\n      <td>NaN</td>\n      <td>NaN</td>\n      <td>NaN</td>\n    </tr>\n  </tbody>\n</table>\n</div>"
     },
     "metadata": {},
     "execution_count": 81
    }
   ],
   "source": [
    "df.sub(s, axis=\"index\")"
   ]
  },
  {
   "cell_type": "code",
   "execution_count": 82,
   "metadata": {},
   "outputs": [
    {
     "output_type": "execute_result",
     "data": {
      "text/plain": [
       "                   A         B         C   D     F\n",
       "2013-01-01  0.000000  0.000000  0.385185   5   NaN\n",
       "2013-01-02 -1.406033 -0.811804  0.519318  10   1.0\n",
       "2013-01-03 -0.147088 -1.853211  1.027225  15   3.0\n",
       "2013-01-04 -0.179530 -1.583346  0.192139  20   6.0\n",
       "2013-01-05 -0.225710 -3.118256 -0.151431  25  10.0\n",
       "2013-01-06 -0.439784 -1.632561  0.044587  30  15.0"
      ],
      "text/html": "<div>\n<style scoped>\n    .dataframe tbody tr th:only-of-type {\n        vertical-align: middle;\n    }\n\n    .dataframe tbody tr th {\n        vertical-align: top;\n    }\n\n    .dataframe thead th {\n        text-align: right;\n    }\n</style>\n<table border=\"1\" class=\"dataframe\">\n  <thead>\n    <tr style=\"text-align: right;\">\n      <th></th>\n      <th>A</th>\n      <th>B</th>\n      <th>C</th>\n      <th>D</th>\n      <th>F</th>\n    </tr>\n  </thead>\n  <tbody>\n    <tr>\n      <td>2013-01-01</td>\n      <td>0.000000</td>\n      <td>0.000000</td>\n      <td>0.385185</td>\n      <td>5</td>\n      <td>NaN</td>\n    </tr>\n    <tr>\n      <td>2013-01-02</td>\n      <td>-1.406033</td>\n      <td>-0.811804</td>\n      <td>0.519318</td>\n      <td>10</td>\n      <td>1.0</td>\n    </tr>\n    <tr>\n      <td>2013-01-03</td>\n      <td>-0.147088</td>\n      <td>-1.853211</td>\n      <td>1.027225</td>\n      <td>15</td>\n      <td>3.0</td>\n    </tr>\n    <tr>\n      <td>2013-01-04</td>\n      <td>-0.179530</td>\n      <td>-1.583346</td>\n      <td>0.192139</td>\n      <td>20</td>\n      <td>6.0</td>\n    </tr>\n    <tr>\n      <td>2013-01-05</td>\n      <td>-0.225710</td>\n      <td>-3.118256</td>\n      <td>-0.151431</td>\n      <td>25</td>\n      <td>10.0</td>\n    </tr>\n    <tr>\n      <td>2013-01-06</td>\n      <td>-0.439784</td>\n      <td>-1.632561</td>\n      <td>0.044587</td>\n      <td>30</td>\n      <td>15.0</td>\n    </tr>\n  </tbody>\n</table>\n</div>"
     },
     "metadata": {},
     "execution_count": 82
    }
   ],
   "source": [
    "df.apply(np.cumsum)"
   ]
  },
  {
   "cell_type": "code",
   "execution_count": 83,
   "metadata": {},
   "outputs": [
    {
     "output_type": "execute_result",
     "data": {
      "text/plain": [
       "A    2.664979\n",
       "B    3.020605\n",
       "C    1.342994\n",
       "D    0.000000\n",
       "F    4.000000\n",
       "dtype: float64"
      ]
     },
     "metadata": {},
     "execution_count": 83
    }
   ],
   "source": [
    "df.apply(lambda x: x.max() - x.min())"
   ]
  },
  {
   "cell_type": "code",
   "execution_count": 84,
   "metadata": {},
   "outputs": [],
   "source": [
    "s = pd.Series(np.random.randint(0, 7, size=10))"
   ]
  },
  {
   "cell_type": "code",
   "execution_count": 85,
   "metadata": {},
   "outputs": [
    {
     "output_type": "execute_result",
     "data": {
      "text/plain": [
       "0    0\n",
       "1    5\n",
       "2    6\n",
       "3    3\n",
       "4    2\n",
       "5    4\n",
       "6    5\n",
       "7    4\n",
       "8    3\n",
       "9    5\n",
       "dtype: int32"
      ]
     },
     "metadata": {},
     "execution_count": 85
    }
   ],
   "source": [
    "s"
   ]
  },
  {
   "cell_type": "code",
   "execution_count": 86,
   "metadata": {},
   "outputs": [
    {
     "output_type": "execute_result",
     "data": {
      "text/plain": [
       "5    3\n",
       "4    2\n",
       "3    2\n",
       "6    1\n",
       "2    1\n",
       "0    1\n",
       "dtype: int64"
      ]
     },
     "metadata": {},
     "execution_count": 86
    }
   ],
   "source": [
    "s.value_counts()"
   ]
  },
  {
   "cell_type": "code",
   "execution_count": null,
   "metadata": {},
   "outputs": [],
   "source": []
  },
  {
   "cell_type": "code",
   "execution_count": null,
   "metadata": {},
   "outputs": [],
   "source": []
  },
  {
   "cell_type": "code",
   "execution_count": null,
   "metadata": {},
   "outputs": [],
   "source": []
  },
  {
   "cell_type": "code",
   "execution_count": null,
   "metadata": {},
   "outputs": [],
   "source": []
  },
  {
   "cell_type": "code",
   "execution_count": null,
   "metadata": {},
   "outputs": [],
   "source": []
  },
  {
   "cell_type": "code",
   "execution_count": null,
   "metadata": {},
   "outputs": [],
   "source": []
  },
  {
   "cell_type": "code",
   "execution_count": null,
   "metadata": {},
   "outputs": [],
   "source": []
  },
  {
   "cell_type": "code",
   "execution_count": null,
   "metadata": {},
   "outputs": [],
   "source": []
  }
 ]
}